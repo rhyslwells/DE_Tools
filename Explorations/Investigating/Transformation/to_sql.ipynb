{
 "cells": [
  {
   "cell_type": "code",
   "execution_count": 12,
   "metadata": {},
   "outputs": [],
   "source": [
    "import sqlite3\n",
    "import pandas as pd\n",
    "\n",
    "# --- Function to load SQL query from file ---\n",
    "def load_sql_query(file_path):\n",
    "    try:\n",
    "        with open(file_path, \"r\") as file:\n",
    "            query = file.read().strip()\n",
    "        return query\n",
    "    except FileNotFoundError:\n",
    "        print(f\"Error: File '{file_path}' not found.\")\n",
    "        return None\n",
    "\n",
    "# --- Create SQLite In-Memory Database ---\n",
    "conn = sqlite3.connect(':memory:')  # In-memory SQLite database\n",
    "cursor = conn.cursor()\n",
    "\n",
    "# --- Load SQL Queries from Files ---\n",
    "# Load the SQL for creating the employees table\n",
    "create_employees_query = load_sql_query('sql_queries/TEmployees.txt')\n",
    "if create_employees_query:\n",
    "    cursor.execute(create_employees_query)\n",
    "\n",
    "# You can similarly load other queries like for creating purchases table\n",
    "create_purchases_query = load_sql_query('sql_queries/TPurchases.txt')\n",
    "if create_purchases_query:\n",
    "    cursor.execute(create_purchases_query)\n",
    "\n",
    "conn.commit()  # Commit the changes after creating tables\n",
    "\n",
    "# --- DataFrames from Dictionaries ---\n",
    "# Employee DataFrame\n",
    "employee_data = [\n",
    "    {\"first\": \"John\", \"last\": \"Doe\", \"pay\": 80000},\n",
    "    {\"first\": \"Jane\", \"last\": \"Doe\", \"pay\": 90000}\n",
    "]\n",
    "df_employees = pd.DataFrame(employee_data)\n",
    "\n",
    "# Purchase DataFrame\n",
    "purchase_data = [\n",
    "    {\"employee_id\": 1, \"product_name\": \"Laptop\", \"amount\": 1500},\n",
    "    {\"employee_id\": 1, \"product_name\": \"Tablet\", \"amount\": 600},\n",
    "    {\"employee_id\": 2, \"product_name\": \"Phone\", \"amount\": 1000}\n",
    "]\n",
    "df_purchases = pd.DataFrame(purchase_data)"
   ]
  },
  {
   "cell_type": "code",
   "execution_count": 13,
   "metadata": {},
   "outputs": [],
   "source": [
    "\n",
    "# --- Insert Data from DataFrames into Database ---\n",
    "# Insert Employee Data\n",
    "for index, row in df_employees.iterrows():\n",
    "    cursor.execute(\"\"\"\n",
    "    INSERT INTO employees (first, last, pay)\n",
    "    VALUES (?, ?, ?)\n",
    "    \"\"\", (row['first'], row['last'], row['pay']))\n",
    "conn.commit()\n",
    "\n",
    "# Insert Purchase Data\n",
    "for index, row in df_purchases.iterrows():\n",
    "    cursor.execute(\"\"\"\n",
    "    INSERT INTO purchases (employee_id, product_name, amount)\n",
    "    VALUES (?, ?, ?)\n",
    "    \"\"\", (row['employee_id'], row['product_name'], row['amount']))\n",
    "conn.commit()\n",
    "\n",
    "# --- Perform SELECT Query with JOIN ---\n",
    "create_join_query = load_sql_query('sql_queries/QJoin.txt')\n",
    "if create_join_query:\n",
    "    cursor.execute(create_join_query)"
   ]
  },
  {
   "cell_type": "code",
   "execution_count": 14,
   "metadata": {},
   "outputs": [],
   "source": [
    "# Fetch the results\n",
    "results = cursor.fetchall()\n",
    "conn.close()\n"
   ]
  },
  {
   "cell_type": "code",
   "execution_count": 16,
   "metadata": {},
   "outputs": [
    {
     "name": "stdout",
     "output_type": "stream",
     "text": [
      "\n",
      "Employees and Purchases:\n"
     ]
    },
    {
     "ename": "ValueError",
     "evalue": "Length mismatch: Expected axis has 4 elements, new values have 5 elements",
     "output_type": "error",
     "traceback": [
      "\u001b[31m---------------------------------------------------------------------------\u001b[39m",
      "\u001b[31mValueError\u001b[39m                                Traceback (most recent call last)",
      "\u001b[36mCell\u001b[39m\u001b[36m \u001b[39m\u001b[32mIn[16]\u001b[39m\u001b[32m, line 8\u001b[39m\n\u001b[32m      6\u001b[39m     \u001b[38;5;66;03m# print(f\"{row[0]} {row[1]} - Pay: {row[2]} - Product: {row[3]} - Amount: ${row[4]}\")\u001b[39;00m\n\u001b[32m      7\u001b[39m df=pd.DataFrame(l)\n\u001b[32m----> \u001b[39m\u001b[32m8\u001b[39m \u001b[43mdf\u001b[49m\u001b[43m.\u001b[49m\u001b[43mcolumns\u001b[49m=[\u001b[33m\"\u001b[39m\u001b[33mFirst Name\u001b[39m\u001b[33m\"\u001b[39m, \u001b[33m\"\u001b[39m\u001b[33mLast Name\u001b[39m\u001b[33m\"\u001b[39m, \u001b[33m\"\u001b[39m\u001b[33mPay\u001b[39m\u001b[33m\"\u001b[39m, \u001b[33m\"\u001b[39m\u001b[33mProduct\u001b[39m\u001b[33m\"\u001b[39m, \u001b[33m\"\u001b[39m\u001b[33mAmount\u001b[39m\u001b[33m\"\u001b[39m]\n",
      "\u001b[36mFile \u001b[39m\u001b[32mc:\\Users\\RhysL\\Desktop\\DE_Tools\\venv\\Lib\\site-packages\\pandas\\core\\generic.py:6313\u001b[39m, in \u001b[36mNDFrame.__setattr__\u001b[39m\u001b[34m(self, name, value)\u001b[39m\n\u001b[32m   6311\u001b[39m \u001b[38;5;28;01mtry\u001b[39;00m:\n\u001b[32m   6312\u001b[39m     \u001b[38;5;28mobject\u001b[39m.\u001b[34m__getattribute__\u001b[39m(\u001b[38;5;28mself\u001b[39m, name)\n\u001b[32m-> \u001b[39m\u001b[32m6313\u001b[39m     \u001b[38;5;28;01mreturn\u001b[39;00m \u001b[38;5;28;43mobject\u001b[39;49m\u001b[43m.\u001b[49m\u001b[34;43m__setattr__\u001b[39;49m\u001b[43m(\u001b[49m\u001b[38;5;28;43mself\u001b[39;49m\u001b[43m,\u001b[49m\u001b[43m \u001b[49m\u001b[43mname\u001b[49m\u001b[43m,\u001b[49m\u001b[43m \u001b[49m\u001b[43mvalue\u001b[49m\u001b[43m)\u001b[49m\n\u001b[32m   6314\u001b[39m \u001b[38;5;28;01mexcept\u001b[39;00m \u001b[38;5;167;01mAttributeError\u001b[39;00m:\n\u001b[32m   6315\u001b[39m     \u001b[38;5;28;01mpass\u001b[39;00m\n",
      "\u001b[36mFile \u001b[39m\u001b[32mproperties.pyx:69\u001b[39m, in \u001b[36mpandas._libs.properties.AxisProperty.__set__\u001b[39m\u001b[34m()\u001b[39m\n",
      "\u001b[36mFile \u001b[39m\u001b[32mc:\\Users\\RhysL\\Desktop\\DE_Tools\\venv\\Lib\\site-packages\\pandas\\core\\generic.py:814\u001b[39m, in \u001b[36mNDFrame._set_axis\u001b[39m\u001b[34m(self, axis, labels)\u001b[39m\n\u001b[32m    809\u001b[39m \u001b[38;5;250m\u001b[39m\u001b[33;03m\"\"\"\u001b[39;00m\n\u001b[32m    810\u001b[39m \u001b[33;03mThis is called from the cython code when we set the `index` attribute\u001b[39;00m\n\u001b[32m    811\u001b[39m \u001b[33;03mdirectly, e.g. `series.index = [1, 2, 3]`.\u001b[39;00m\n\u001b[32m    812\u001b[39m \u001b[33;03m\"\"\"\u001b[39;00m\n\u001b[32m    813\u001b[39m labels = ensure_index(labels)\n\u001b[32m--> \u001b[39m\u001b[32m814\u001b[39m \u001b[38;5;28;43mself\u001b[39;49m\u001b[43m.\u001b[49m\u001b[43m_mgr\u001b[49m\u001b[43m.\u001b[49m\u001b[43mset_axis\u001b[49m\u001b[43m(\u001b[49m\u001b[43maxis\u001b[49m\u001b[43m,\u001b[49m\u001b[43m \u001b[49m\u001b[43mlabels\u001b[49m\u001b[43m)\u001b[49m\n\u001b[32m    815\u001b[39m \u001b[38;5;28mself\u001b[39m._clear_item_cache()\n",
      "\u001b[36mFile \u001b[39m\u001b[32mc:\\Users\\RhysL\\Desktop\\DE_Tools\\venv\\Lib\\site-packages\\pandas\\core\\internals\\managers.py:238\u001b[39m, in \u001b[36mBaseBlockManager.set_axis\u001b[39m\u001b[34m(self, axis, new_labels)\u001b[39m\n\u001b[32m    236\u001b[39m \u001b[38;5;28;01mdef\u001b[39;00m\u001b[38;5;250m \u001b[39m\u001b[34mset_axis\u001b[39m(\u001b[38;5;28mself\u001b[39m, axis: AxisInt, new_labels: Index) -> \u001b[38;5;28;01mNone\u001b[39;00m:\n\u001b[32m    237\u001b[39m     \u001b[38;5;66;03m# Caller is responsible for ensuring we have an Index object.\u001b[39;00m\n\u001b[32m--> \u001b[39m\u001b[32m238\u001b[39m     \u001b[38;5;28;43mself\u001b[39;49m\u001b[43m.\u001b[49m\u001b[43m_validate_set_axis\u001b[49m\u001b[43m(\u001b[49m\u001b[43maxis\u001b[49m\u001b[43m,\u001b[49m\u001b[43m \u001b[49m\u001b[43mnew_labels\u001b[49m\u001b[43m)\u001b[49m\n\u001b[32m    239\u001b[39m     \u001b[38;5;28mself\u001b[39m.axes[axis] = new_labels\n",
      "\u001b[36mFile \u001b[39m\u001b[32mc:\\Users\\RhysL\\Desktop\\DE_Tools\\venv\\Lib\\site-packages\\pandas\\core\\internals\\base.py:98\u001b[39m, in \u001b[36mDataManager._validate_set_axis\u001b[39m\u001b[34m(self, axis, new_labels)\u001b[39m\n\u001b[32m     95\u001b[39m     \u001b[38;5;28;01mpass\u001b[39;00m\n\u001b[32m     97\u001b[39m \u001b[38;5;28;01melif\u001b[39;00m new_len != old_len:\n\u001b[32m---> \u001b[39m\u001b[32m98\u001b[39m     \u001b[38;5;28;01mraise\u001b[39;00m \u001b[38;5;167;01mValueError\u001b[39;00m(\n\u001b[32m     99\u001b[39m         \u001b[33mf\u001b[39m\u001b[33m\"\u001b[39m\u001b[33mLength mismatch: Expected axis has \u001b[39m\u001b[38;5;132;01m{\u001b[39;00mold_len\u001b[38;5;132;01m}\u001b[39;00m\u001b[33m elements, new \u001b[39m\u001b[33m\"\u001b[39m\n\u001b[32m    100\u001b[39m         \u001b[33mf\u001b[39m\u001b[33m\"\u001b[39m\u001b[33mvalues have \u001b[39m\u001b[38;5;132;01m{\u001b[39;00mnew_len\u001b[38;5;132;01m}\u001b[39;00m\u001b[33m elements\u001b[39m\u001b[33m\"\u001b[39m\n\u001b[32m    101\u001b[39m     )\n",
      "\u001b[31mValueError\u001b[39m: Length mismatch: Expected axis has 4 elements, new values have 5 elements"
     ]
    }
   ],
   "source": [
    "# Print the results in a readable format\n",
    "print(\"\\nEmployees and Purchases:\")\n",
    "l=[]\n",
    "for row in results:\n",
    "    l.append(row)\n",
    "    # print(f\"{row[0]} {row[1]} - Pay: {row[2]} - Product: {row[3]} - Amount: ${row[4]}\")\n",
    "df=pd.DataFrame(l)\n",
    "df.columns=[\"First Name\", \"Last Name\", \"Pay\", \"Product\", \"Amount\"]"
   ]
  },
  {
   "cell_type": "code",
   "execution_count": null,
   "metadata": {},
   "outputs": [],
   "source": [
    "\n",
    "df.head()\n",
    "# --- Close the Database Connection ---\n"
   ]
  },
  {
   "cell_type": "code",
   "execution_count": null,
   "metadata": {},
   "outputs": [],
   "source": []
  }
 ],
 "metadata": {
  "kernelspec": {
   "display_name": "venv",
   "language": "python",
   "name": "python3"
  },
  "language_info": {
   "codemirror_mode": {
    "name": "ipython",
    "version": 3
   },
   "file_extension": ".py",
   "mimetype": "text/x-python",
   "name": "python",
   "nbconvert_exporter": "python",
   "pygments_lexer": "ipython3",
   "version": "3.12.5"
  }
 },
 "nbformat": 4,
 "nbformat_minor": 2
}
