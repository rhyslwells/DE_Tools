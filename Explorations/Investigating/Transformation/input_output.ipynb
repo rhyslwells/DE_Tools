{
 "cells": [
  {
   "cell_type": "markdown",
   "metadata": {},
   "source": [
    "How to load data from different sources."
   ]
  },
  {
   "cell_type": "code",
   "execution_count": 4,
   "metadata": {},
   "outputs": [],
   "source": [
    "import pandas as pd\n",
    "import numpy as np\n",
    "import gspread\n",
    "from google.oauth2.service_account import Credentials"
   ]
  },
  {
   "cell_type": "markdown",
   "metadata": {},
   "source": [
    " ### GSheets"
   ]
  },
  {
   "cell_type": "code",
   "execution_count": 9,
   "metadata": {},
   "outputs": [
    {
     "name": "stdout",
     "output_type": "stream",
     "text": [
      "['', 'Helloworld', 'Hidding Status', 'Not Currently Important', 'Pending Other Project']\n"
     ]
    }
   ],
   "source": [
    "# Follow this: https://www.youtube.com/watch?v=zCEJurLGFRk\n",
    "#  Load Google Sheet (Requires Google Service Account JSON credentials)\n",
    "# Step 1: Create a Google Cloud Project and Enable APIs\n",
    "# - Go to https://console.cloud.google.com/\n",
    "# - Create a new project\n",
    "# - Enable the \"Google Sheets API\" and \"Google Drive API\"\n",
    "\n",
    "# Step 2: Create Service Account Credentials\n",
    "# - In the Google Cloud Console, navigate to \"IAM & Admin\" > \"Service Accounts\"\n",
    "# - Create a new service account and generate a JSON key file (download it)\n",
    "# - Share the Google Sheet with the service account email (found in the JSON file)"
   ]
  },
  {
   "cell_type": "code",
   "execution_count": 12,
   "metadata": {},
   "outputs": [],
   "source": [
    "\n",
    "# Step 3: Load Google Sheet into Pandas DataFrame\n",
    "scopes = [\"https://www.googleapis.com/auth/spreadsheets\"]\n",
    "creds = Credentials.from_service_account_file(\"credentials.json\", scopes=scopes)\n",
    "gc = gspread.authorize(creds)\n",
    "# https://docs.google.com/spreadsheets/d/1PMMFXlFfYjfba5VZQBVGcdtpXVQjPfDAL_MnDBobR1Y/edit?gid=1087746198#gid=1087746198\n",
    "sheet_id=\"1PMMFXlFfYjfba5VZQBVGcdtpXVQjPfDAL_MnDBobR1Y\"\n",
    "sheet = gc.open_by_key(sheet_id)\n"
   ]
  },
  {
   "cell_type": "code",
   "execution_count": 13,
   "metadata": {},
   "outputs": [],
   "source": [
    "#### gspread"
   ]
  },
  {
   "cell_type": "markdown",
   "metadata": {},
   "source": [
    "Read:\n",
    "https://docs.gspread.org/en/v6.0.0/user-guide.html#creating-a-spreadsheet"
   ]
  },
  {
   "cell_type": "code",
   "execution_count": null,
   "metadata": {},
   "outputs": [
    {
     "ename": "AttributeError",
     "evalue": "'Spreadsheet' object has no attribute 'testsheet'",
     "output_type": "error",
     "traceback": [
      "\u001b[31m---------------------------------------------------------------------------\u001b[39m",
      "\u001b[31mAttributeError\u001b[39m                            Traceback (most recent call last)",
      "\u001b[36mCell\u001b[39m\u001b[36m \u001b[39m\u001b[32mIn[14]\u001b[39m\u001b[32m, line 1\u001b[39m\n\u001b[32m----> \u001b[39m\u001b[32m1\u001b[39m values_list = \u001b[43msheet\u001b[49m\u001b[43m.\u001b[49m\u001b[43mtestsheet\u001b[49m.row_values(\u001b[32m1\u001b[39m)\n\u001b[32m      2\u001b[39m \u001b[38;5;28mprint\u001b[39m(values_list)\n",
      "\u001b[31mAttributeError\u001b[39m: 'Spreadsheet' object has no attribute 'testsheet'"
     ]
    }
   ],
   "source": [
    "values_list = sheet.sheet1.row_values(1)\n",
    "print(values_list)"
   ]
  },
  {
   "cell_type": "code",
   "execution_count": 19,
   "metadata": {},
   "outputs": [
    {
     "data": {
      "text/plain": [
       "[<Worksheet 'Sheet1' id:0>, <Worksheet 'testsheet' id:1087746198>]"
      ]
     },
     "execution_count": 19,
     "metadata": {},
     "output_type": "execute_result"
    }
   ],
   "source": [
    "sheet.worksheets()"
   ]
  },
  {
   "cell_type": "code",
   "execution_count": 20,
   "metadata": {},
   "outputs": [
    {
     "data": {
      "text/plain": [
       "['test ', 'yoooo']"
      ]
     },
     "execution_count": 20,
     "metadata": {},
     "output_type": "execute_result"
    }
   ],
   "source": [
    "\n",
    "testsheet=sheet.worksheet(\"testsheet\")\n",
    "testsheet.row_values(1)"
   ]
  },
  {
   "cell_type": "code",
   "execution_count": 21,
   "metadata": {},
   "outputs": [
    {
     "name": "stdout",
     "output_type": "stream",
     "text": [
      "<Worksheet 'testsheet' id:1087746198>\n"
     ]
    }
   ],
   "source": [
    "print(testsheet)"
   ]
  },
  {
   "cell_type": "code",
   "execution_count": 22,
   "metadata": {},
   "outputs": [
    {
     "data": {
      "text/plain": [
       "{'spreadsheetId': '1PMMFXlFfYjfba5VZQBVGcdtpXVQjPfDAL_MnDBobR1Y',\n",
       " 'updatedRange': 'testsheet!A2',\n",
       " 'updatedRows': 1,\n",
       " 'updatedColumns': 1,\n",
       " 'updatedCells': 1}"
      ]
     },
     "execution_count": 22,
     "metadata": {},
     "output_type": "execute_result"
    }
   ],
   "source": [
    "testsheet.update_cell(2, 1, \"hello\")"
   ]
  },
  {
   "cell_type": "code",
   "execution_count": 23,
   "metadata": {},
   "outputs": [
    {
     "data": {
      "text/plain": [
       "'test '"
      ]
     },
     "execution_count": 23,
     "metadata": {},
     "output_type": "execute_result"
    }
   ],
   "source": [
    "testsheet.acell(\"A1\").value"
   ]
  },
  {
   "cell_type": "code",
   "execution_count": 28,
   "metadata": {},
   "outputs": [],
   "source": [
    "cell=testsheet.find(\"find this cell location\")"
   ]
  },
  {
   "cell_type": "code",
   "execution_count": null,
   "metadata": {},
   "outputs": [
    {
     "name": "stdout",
     "output_type": "stream",
     "text": [
      "3 3 find this cell location\n"
     ]
    }
   ],
   "source": [
    "print(cell.row, cell.col,cell.value)"
   ]
  },
  {
   "cell_type": "code",
   "execution_count": 35,
   "metadata": {},
   "outputs": [
    {
     "name": "stderr",
     "output_type": "stream",
     "text": [
      "C:\\Users\\RhysL\\AppData\\Local\\Temp\\ipykernel_3936\\248448618.py:17: DeprecationWarning: The order of arguments in worksheet.update() has changed. Please pass values first and range_name secondor used named arguments (range_name=, values=)\n",
      "  sheet.update(f\"A1:C{len(values)}\", values)\n"
     ]
    },
    {
     "data": {
      "text/plain": [
       "{'spreadsheetId': '1PMMFXlFfYjfba5VZQBVGcdtpXVQjPfDAL_MnDBobR1Y',\n",
       " 'updatedRange': 'Values!A1:C4',\n",
       " 'updatedRows': 4,\n",
       " 'updatedColumns': 3,\n",
       " 'updatedCells': 12}"
      ]
     },
     "execution_count": 35,
     "metadata": {},
     "output_type": "execute_result"
    }
   ],
   "source": [
    "workbook=gc.open_by_key(sheet_id)\n",
    "values = [[\"Name\", \"Price\", \"Quantity\"],\n",
    "[\"Basketball\", 29.99, 1],\n",
    "[\"Jeans\", 39.99, 4],\n",
    "[\"Soap\", 7.99, 3]]\n",
    "\n",
    "worksheet_list = map( lambda x: x.title, workbook.worksheets())\n",
    "new_worksheet_name = \"Values\"\n",
    "\n",
    "if new_worksheet_name in worksheet_list:\n",
    "    sheet = workbook.worksheet (new_worksheet_name)\n",
    "else:\n",
    "    sheet = workbook. add_worksheet(new_worksheet_name, rows=10, cols=10)\n",
    "\n",
    "sheet.clear()\n",
    "\n",
    "sheet.update(f\"A1:C{len(values)}\", values)\n"
   ]
  },
  {
   "cell_type": "markdown",
   "metadata": {},
   "source": [
    "### CSV"
   ]
  },
  {
   "cell_type": "code",
   "execution_count": null,
   "metadata": {},
   "outputs": [],
   "source": [
    "# # Load CSV file\n",
    "# df_csv = pd.read_csv(\"data.csv\")\n",
    "# print(\"CSV Data:\")\n",
    "# print(df_csv.head())\n",
    "\n",
    "# # Save specific columns to CSV\n",
    "# df_csv.to_csv(\"new.csv\", columns=[\"tickers\", \"price\"], index=False)\n"
   ]
  },
  {
   "cell_type": "markdown",
   "metadata": {},
   "source": [
    "### Xlsx"
   ]
  },
  {
   "cell_type": "code",
   "execution_count": null,
   "metadata": {},
   "outputs": [],
   "source": [
    "# Load Excel file (specific sheet)\n",
    "df_excel = pd.read_excel(\"stock_data.xlsx\", sheet_name=\"Sheet1\")\n",
    "print(\"\\nExcel Data:\")\n",
    "print(df_excel.head())\n",
    "\n",
    "\n",
    "# -------------------------\n",
    "# 2. Saving Data\n",
    "# -------------------------\n",
    "# Save multiple DataFrames to Excel\n",
    "with pd.ExcelWriter(\"stocks_weather.xlsx\") as writer:\n",
    "    df_csv.to_excel(writer, sheet_name=\"stocks\", index=False)\n",
    "    df_excel.to_excel(writer, sheet_name=\"weather\", index=False)\n",
    "\n",
    "print(\"\\nData saved successfully!\")\n"
   ]
  }
 ],
 "metadata": {
  "kernelspec": {
   "display_name": "venv",
   "language": "python",
   "name": "python3"
  },
  "language_info": {
   "codemirror_mode": {
    "name": "ipython",
    "version": 3
   },
   "file_extension": ".py",
   "mimetype": "text/x-python",
   "name": "python",
   "nbconvert_exporter": "python",
   "pygments_lexer": "ipython3",
   "version": "3.12.5"
  }
 },
 "nbformat": 4,
 "nbformat_minor": 2
}
