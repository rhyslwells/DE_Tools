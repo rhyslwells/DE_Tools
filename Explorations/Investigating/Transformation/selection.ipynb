{
 "cells": [
  {
   "cell_type": "markdown",
   "metadata": {},
   "source": [
    "Selection of Data"
   ]
  },
  {
   "cell_type": "code",
   "execution_count": 2,
   "metadata": {},
   "outputs": [],
   "source": [
    "import pandas as pd\n",
    "import numpy as np"
   ]
  },
  {
   "cell_type": "code",
   "execution_count": 3,
   "metadata": {},
   "outputs": [
    {
     "name": "stdout",
     "output_type": "stream",
     "text": [
      "Original DataFrame:\n",
      "                   A         B         C         D\n",
      "2013-01-01 -0.482697 -0.482246 -0.375012  0.770682\n",
      "2013-01-02  0.520031  0.198222  1.502964 -0.116865\n",
      "2013-01-03  1.274152 -0.102950 -0.009005  3.094631\n",
      "2013-01-04  0.559905  1.780024  0.686163 -0.089857\n",
      "2013-01-05  2.018584  0.890666 -0.907585  0.185599\n",
      "2013-01-06  1.540715 -0.866868 -0.386866  1.706648\n"
     ]
    }
   ],
   "source": [
    "# Create a sample DataFrame with a date range as index\n",
    "dates = pd.date_range(\"20130101\", periods=6)\n",
    "df = pd.DataFrame(np.random.randn(6, 4), index=dates, columns=list(\"ABCD\"))\n",
    "\n",
    "print(\"Original DataFrame:\")\n",
    "print(df)"
   ]
  },
  {
   "cell_type": "code",
   "execution_count": 4,
   "metadata": {},
   "outputs": [
    {
     "name": "stdout",
     "output_type": "stream",
     "text": [
      "\n",
      "Selecting column A (Two Methods):\n",
      "2013-01-01   -0.482697\n",
      "2013-01-02    0.520031\n",
      "2013-01-03    1.274152\n",
      "2013-01-04    0.559905\n",
      "2013-01-05    2.018584\n",
      "2013-01-06    1.540715\n",
      "Freq: D, Name: A, dtype: float64\n",
      "-----\n",
      "2013-01-01   -0.482697\n",
      "2013-01-02    0.520031\n",
      "2013-01-03    1.274152\n",
      "2013-01-04    0.559905\n",
      "2013-01-05    2.018584\n",
      "2013-01-06    1.540715\n",
      "Freq: D, Name: A, dtype: float64\n"
     ]
    }
   ],
   "source": [
    "# Selection of Data\n",
    "print(\"\\nSelecting column A (Two Methods):\")\n",
    "print(df['A'])  # Selecting column 'A' using dictionary-like access\n",
    "print(\"-----\")\n",
    "print(df.A)     # Selecting column 'A' using attribute access\n"
   ]
  },
  {
   "cell_type": "code",
   "execution_count": 5,
   "metadata": {},
   "outputs": [
    {
     "name": "stdout",
     "output_type": "stream",
     "text": [
      "\n",
      "Selecting rows by slicing (first three rows):\n",
      "                   A         B         C         D\n",
      "2013-01-01 -0.482697 -0.482246 -0.375012  0.770682\n",
      "2013-01-02  0.520031  0.198222  1.502964 -0.116865\n",
      "2013-01-03  1.274152 -0.102950 -0.009005  3.094631\n"
     ]
    }
   ],
   "source": [
    "print(\"\\nSelecting rows by slicing (first three rows):\")\n",
    "print(df[0:3])  # Select first three rows using slicing\n"
   ]
  },
  {
   "cell_type": "code",
   "execution_count": null,
   "metadata": {},
   "outputs": [
    {
     "name": "stdout",
     "output_type": "stream",
     "text": [
      "\n",
      "Selecting rows using date range:\n",
      "                   A         B         C         D\n",
      "2013-01-02  0.520031  0.198222  1.502964 -0.116865\n",
      "2013-01-03  1.274152 -0.102950 -0.009005  3.094631\n",
      "2013-01-04  0.559905  1.780024  0.686163 -0.089857\n"
     ]
    }
   ],
   "source": [
    "# Because we are using the date as an index\n",
    "print(\"\\nSelecting rows using date range:\")\n",
    "print(df['20130102':'20130104'])  # Select rows by date range\n"
   ]
  },
  {
   "cell_type": "code",
   "execution_count": 7,
   "metadata": {},
   "outputs": [
    {
     "name": "stdout",
     "output_type": "stream",
     "text": [
      "\n",
      "Selecting row 'Rain' using loc:\n",
      "A    1.0\n",
      "B    2.0\n",
      "C    3.0\n",
      "D    4.0\n",
      "Name: Rain, dtype: float64\n"
     ]
    }
   ],
   "source": [
    "# Selecting using loc and at (label-based selection)\n",
    "df.loc['Rain'] = [1, 2, 3, 4]  # Adding a row with index 'Rain'\n",
    "print(\"\\nSelecting row 'Rain' using loc:\")\n",
    "print(df.loc['Rain'])  # Select the row with label 'Rain'"
   ]
  },
  {
   "cell_type": "code",
   "execution_count": 8,
   "metadata": {},
   "outputs": [
    {
     "name": "stdout",
     "output_type": "stream",
     "text": [
      "                            A         B         C         D\n",
      "2013-01-01 00:00:00 -0.482697 -0.482246 -0.375012  0.770682\n",
      "2013-01-02 00:00:00  0.520031  0.198222  1.502964 -0.116865\n",
      "2013-01-03 00:00:00  1.274152 -0.102950 -0.009005  3.094631\n",
      "2013-01-04 00:00:00  0.559905  1.780024  0.686163 -0.089857\n",
      "2013-01-05 00:00:00  2.018584  0.890666 -0.907585  0.185599\n",
      "2013-01-06 00:00:00  1.540715 -0.866868 -0.386866  1.706648\n",
      "Rain                 1.000000  2.000000  3.000000  4.000000\n"
     ]
    }
   ],
   "source": [
    "print(df)"
   ]
  },
  {
   "cell_type": "code",
   "execution_count": 9,
   "metadata": {},
   "outputs": [
    {
     "name": "stdout",
     "output_type": "stream",
     "text": [
      "\n",
      "Selecting a single value using at:\n",
      "2.0\n"
     ]
    }
   ],
   "source": [
    "print(\"\\nSelecting a single value using at:\")\n",
    "print(df.at['Rain', 'B'])  # Select value at row 'Rain' and column 'B'"
   ]
  },
  {
   "cell_type": "code",
   "execution_count": 12,
   "metadata": {},
   "outputs": [
    {
     "name": "stdout",
     "output_type": "stream",
     "text": [
      "\n",
      "Selecting the fourth row using iloc:\n",
      "A    0.559905\n",
      "B    1.780024\n",
      "C    0.686163\n",
      "D   -0.089857\n",
      "Name: 2013-01-04 00:00:00, dtype: float64\n"
     ]
    }
   ],
   "source": [
    "# Selecting using iloc and iat (position-based selection)\n",
    "print(\"\\nSelecting the fourth row using iloc:\")\n",
    "print(df.iloc[3])  # Select the fourth row (index-based)\n"
   ]
  },
  {
   "cell_type": "code",
   "execution_count": 16,
   "metadata": {},
   "outputs": [
    {
     "name": "stdout",
     "output_type": "stream",
     "text": [
      "                            A         B         C         D\n",
      "2013-01-01 00:00:00 -0.482697 -0.482246 -0.375012  0.770682\n",
      "Rain                 1.000000  2.000000  3.000000  4.000000\n"
     ]
    }
   ],
   "source": [
    "indexes=[0,-1]\n",
    "df_index=df.iloc[indexes]\n",
    "print(df_index)"
   ]
  },
  {
   "cell_type": "code",
   "execution_count": null,
   "metadata": {},
   "outputs": [
    {
     "name": "stdout",
     "output_type": "stream",
     "text": [
      "\n",
      "Selecting a single value using iat:\n",
      "0.198221561794196\n"
     ]
    }
   ],
   "source": [
    "# print(\"\\nSelecting a single value using iat:\")\n",
    "# print(df.iat[1, 1])  # Select the value at row index 1 and column index 1"
   ]
  },
  {
   "cell_type": "code",
   "execution_count": 23,
   "metadata": {},
   "outputs": [
    {
     "name": "stdout",
     "output_type": "stream",
     "text": [
      "\n",
      "Filtering rows where column 'A' > 0:\n",
      "                            A         B         C         D\n",
      "2013-01-03 00:00:00  1.274152 -0.102950 -0.009005  3.094631\n",
      "2013-01-05 00:00:00  2.018584  0.890666 -0.907585  0.185599\n",
      "2013-01-06 00:00:00  1.540715 -0.866868 -0.386866  1.706648\n"
     ]
    }
   ],
   "source": [
    "# Boolean Indexing (Filtering Data)\n",
    "print(\"\\nFiltering rows where column 'A' > 0:\")\n",
    "print(df[df.A > 1])  # Select rows where values in column 'A' are greater than 0"
   ]
  },
  {
   "cell_type": "code",
   "execution_count": 24,
   "metadata": {},
   "outputs": [
    {
     "name": "stdout",
     "output_type": "stream",
     "text": [
      "                            A         B         C         D\n",
      "2013-01-05 00:00:00  2.018584  0.890666 -0.907585  0.185599\n"
     ]
    }
   ],
   "source": [
    "print(df[(df.A > 1) & (df.B > 0)])  # Select rows where values in column 'A' are greater than 1 and column 'B' are greater than 0"
   ]
  },
  {
   "cell_type": "code",
   "execution_count": 25,
   "metadata": {},
   "outputs": [
    {
     "name": "stdout",
     "output_type": "stream",
     "text": [
      "\n",
      "Sorting by column 'C' in descending order:\n",
      "                            A         B         C         D\n",
      "Rain                 1.000000  2.000000  3.000000  4.000000\n",
      "2013-01-02 00:00:00  0.520031  0.198222  1.502964 -0.116865\n",
      "2013-01-04 00:00:00  0.559905  1.780024  0.686163 -0.089857\n",
      "2013-01-03 00:00:00  1.274152 -0.102950 -0.009005  3.094631\n",
      "2013-01-01 00:00:00 -0.482697 -0.482246 -0.375012  0.770682\n",
      "2013-01-06 00:00:00  1.540715 -0.866868 -0.386866  1.706648\n",
      "2013-01-05 00:00:00  2.018584  0.890666 -0.907585  0.185599\n"
     ]
    }
   ],
   "source": [
    "# Sorting Data\n",
    "\n",
    "print(\"\\nSorting by column 'C' in descending order:\")\n",
    "print(df.sort_values(by='C', ascending=False))"
   ]
  }
 ],
 "metadata": {
  "kernelspec": {
   "display_name": "venv",
   "language": "python",
   "name": "python3"
  },
  "language_info": {
   "codemirror_mode": {
    "name": "ipython",
    "version": 3
   },
   "file_extension": ".py",
   "mimetype": "text/x-python",
   "name": "python",
   "nbconvert_exporter": "python",
   "pygments_lexer": "ipython3",
   "version": "3.12.5"
  }
 },
 "nbformat": 4,
 "nbformat_minor": 2
}
