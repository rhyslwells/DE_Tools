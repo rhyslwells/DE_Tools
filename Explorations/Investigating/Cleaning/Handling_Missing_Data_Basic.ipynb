{
 "cells": [
  {
   "cell_type": "markdown",
   "metadata": {},
   "source": [
    "# Handling Missing Data"
   ]
  },
  {
   "cell_type": "code",
   "execution_count": 1,
   "metadata": {},
   "outputs": [],
   "source": [
    "import pandas as pd\n",
    "import numpy as np"
   ]
  },
  {
   "cell_type": "markdown",
   "metadata": {},
   "source": [
    "This notebook demonstrates different methods for handling missing data in a dataset using Pandas."
   ]
  },
  {
   "cell_type": "code",
   "execution_count": 2,
   "metadata": {},
   "outputs": [
    {
     "name": "stdout",
     "output_type": "stream",
     "text": [
      "         day  temperature  windspeed   event\n",
      "0 2017-01-01         32.0        6.0    Rain\n",
      "1 2017-01-02          NaN        9.0   Sunny\n",
      "2 2017-01-03         28.0        NaN    Snow\n",
      "3 2017-01-04          NaN        7.0     NaN\n",
      "4 2017-01-05         32.0        NaN    Rain\n",
      "5 2017-01-06          NaN        NaN   Sunny\n",
      "6 2017-01-07          NaN        NaN     NaN\n",
      "7 2017-01-08         34.0        8.0  Cloudy\n",
      "8 2017-01-09         40.0       12.0   Sunny\n",
      "9 2017-01-10          NaN        NaN     NaN\n"
     ]
    }
   ],
   "source": [
    "# ## Creating the Dataset\n",
    "# Instead of loading from a CSV, we define the dataset as a dictionary for reusability.\n",
    "\n",
    "# Define dataset as a dictionary\n",
    "weather_data = {\n",
    "    \"day\": pd.date_range(\"1/1/2017\", periods=10, freq='D'),\n",
    "    \"temperature\": [32, np.nan, 28, np.nan, 32, np.nan, np.nan, 34, 40, np.nan],\n",
    "    \"windspeed\": [6, 9, np.nan, 7, np.nan, np.nan, np.nan, 8, 12, np.nan],\n",
    "    \"event\": [\"Rain\", \"Sunny\", \"Snow\", np.nan, \"Rain\", \"Sunny\", np.nan, \"Cloudy\", \"Sunny\", np.nan]\n",
    "}\n",
    "\n",
    "# Create DataFrame\n",
    "df = pd.DataFrame(weather_data)\n",
    "print(df)"
   ]
  },
  {
   "cell_type": "code",
   "execution_count": 3,
   "metadata": {},
   "outputs": [
    {
     "name": "stdout",
     "output_type": "stream",
     "text": [
      "            temperature  windspeed   event\n",
      "day                                       \n",
      "2017-01-01         32.0        6.0    Rain\n",
      "2017-01-02          NaN        9.0   Sunny\n",
      "2017-01-03         28.0        NaN    Snow\n",
      "2017-01-04          NaN        7.0     NaN\n",
      "2017-01-05         32.0        NaN    Rain\n",
      "2017-01-06          NaN        NaN   Sunny\n",
      "2017-01-07          NaN        NaN     NaN\n",
      "2017-01-08         34.0        8.0  Cloudy\n",
      "2017-01-09         40.0       12.0   Sunny\n",
      "2017-01-10          NaN        NaN     NaN\n"
     ]
    }
   ],
   "source": [
    "# ## Setting Index\n",
    "# We set the 'day' column as the index to facilitate time-series operations.\n",
    "df.set_index('day', inplace=True)\n",
    "print(df)"
   ]
  },
  {
   "cell_type": "code",
   "execution_count": null,
   "metadata": {},
   "outputs": [],
   "source": [
    "# # loading from csv and replacing na values\n",
    "# df = pd.read_csv(\"../Datasets/stock_data.csv\",  na_values={\n",
    "#         'eps': ['not available'],\n",
    "#         'revenue': [-1],\n",
    "#         'people': ['not available','n.a.']\n",
    "#     })\n",
    "# df"
   ]
  },
  {
   "cell_type": "markdown",
   "metadata": {},
   "source": [
    "## Filling Missing Values"
   ]
  },
  {
   "cell_type": "code",
   "execution_count": 4,
   "metadata": {},
   "outputs": [],
   "source": [
    "# ### Fill all NaN with a specific value\n",
    "new_df = df.fillna(0)\n",
    "# print(new_df)"
   ]
  },
  {
   "cell_type": "code",
   "execution_count": 5,
   "metadata": {},
   "outputs": [],
   "source": [
    "# ### Fill NaN using a dictionary for specific columns\n",
    "new_df = df.fillna({\n",
    "    'temperature': 0,\n",
    "    'windspeed': 0,\n",
    "    'event': 'No Event'\n",
    "})\n",
    "# print(new_df)"
   ]
  },
  {
   "cell_type": "code",
   "execution_count": 6,
   "metadata": {},
   "outputs": [
    {
     "name": "stdout",
     "output_type": "stream",
     "text": [
      "            temperature  windspeed   event\n",
      "day                                       \n",
      "2017-01-01         32.0        6.0    Rain\n",
      "2017-01-02          NaN        9.0   Sunny\n",
      "2017-01-03         28.0        NaN    Snow\n",
      "2017-01-04          NaN        7.0     NaN\n",
      "2017-01-05         32.0        NaN    Rain\n",
      "2017-01-06          NaN        NaN   Sunny\n",
      "2017-01-07          NaN        NaN     NaN\n",
      "2017-01-08         34.0        8.0  Cloudy\n",
      "2017-01-09         40.0       12.0   Sunny\n",
      "2017-01-10          NaN        NaN     NaN\n",
      "-----\n",
      "            temperature  windspeed   event\n",
      "day                                       \n",
      "2017-01-01         32.0        6.0    Rain\n",
      "2017-01-02         32.0        9.0   Sunny\n",
      "2017-01-03         28.0        9.0    Snow\n",
      "2017-01-04         28.0        7.0    Snow\n",
      "2017-01-05         32.0        7.0    Rain\n",
      "2017-01-06         32.0        7.0   Sunny\n",
      "2017-01-07         32.0        7.0   Sunny\n",
      "2017-01-08         34.0        8.0  Cloudy\n",
      "2017-01-09         40.0       12.0   Sunny\n",
      "2017-01-10         40.0       12.0   Sunny\n"
     ]
    },
    {
     "name": "stderr",
     "output_type": "stream",
     "text": [
      "C:\\Users\\RhysL\\AppData\\Local\\Temp\\ipykernel_16560\\2885326042.py:2: FutureWarning: DataFrame.fillna with 'method' is deprecated and will raise in a future version. Use obj.ffill() or obj.bfill() instead.\n",
      "  new_df = df.fillna(method=\"ffill\")\n"
     ]
    }
   ],
   "source": [
    "# ### Forward Fill (propagate previous values forward)\n",
    "new_df = df.fillna(method=\"ffill\")\n",
    "print(df)\n",
    "print(\"-----\")\n",
    "print(new_df)"
   ]
  },
  {
   "cell_type": "code",
   "execution_count": 8,
   "metadata": {},
   "outputs": [
    {
     "name": "stderr",
     "output_type": "stream",
     "text": [
      "C:\\Users\\RhysL\\AppData\\Local\\Temp\\ipykernel_16560\\1247242728.py:2: FutureWarning: DataFrame.fillna with 'method' is deprecated and will raise in a future version. Use obj.ffill() or obj.bfill() instead.\n",
      "  new_df = df.fillna(method=\"bfill\")\n"
     ]
    }
   ],
   "source": [
    "# ### Backward Fill (propagate next values backward)\n",
    "new_df = df.fillna(method=\"bfill\")\n",
    "# print(df)\n",
    "# print(\"-----\")\n",
    "# print(new_df)"
   ]
  },
  {
   "cell_type": "code",
   "execution_count": 9,
   "metadata": {},
   "outputs": [
    {
     "name": "stderr",
     "output_type": "stream",
     "text": [
      "C:\\Users\\RhysL\\AppData\\Local\\Temp\\ipykernel_16560\\1748157533.py:3: FutureWarning: DataFrame.fillna with 'method' is deprecated and will raise in a future version. Use obj.ffill() or obj.bfill() instead.\n",
      "  new_df = df.fillna(method=\"bfill\", axis=\"columns\")\n",
      "C:\\Users\\RhysL\\AppData\\Local\\Temp\\ipykernel_16560\\1748157533.py:3: FutureWarning: Downcasting object dtype arrays on .fillna, .ffill, .bfill is deprecated and will change in a future version. Call result.infer_objects(copy=False) instead. To opt-in to the future behavior, set `pd.set_option('future.no_silent_downcasting', True)`\n",
      "  new_df = df.fillna(method=\"bfill\", axis=\"columns\")\n"
     ]
    }
   ],
   "source": [
    "# ### Column-wise Backward Fill\n",
    "#Uses the rows to fill data\n",
    "new_df = df.fillna(method=\"bfill\", axis=\"columns\")\n",
    "# print(df)\n",
    "# print(\"-----\")\n",
    "# print(new_df)"
   ]
  },
  {
   "cell_type": "markdown",
   "metadata": {},
   "source": [
    "## Interpolation"
   ]
  },
  {
   "cell_type": "markdown",
   "metadata": {},
   "source": [
    "This method estimates missing values based on nearby values."
   ]
  },
  {
   "cell_type": "code",
   "execution_count": 10,
   "metadata": {},
   "outputs": [
    {
     "name": "stdout",
     "output_type": "stream",
     "text": [
      "            temperature  windspeed   event\n",
      "day                                       \n",
      "2017-01-01         32.0        6.0    Rain\n",
      "2017-01-02          NaN        9.0   Sunny\n",
      "2017-01-03         28.0        NaN    Snow\n",
      "2017-01-04          NaN        7.0     NaN\n",
      "2017-01-05         32.0        NaN    Rain\n",
      "2017-01-06          NaN        NaN   Sunny\n",
      "2017-01-07          NaN        NaN     NaN\n",
      "2017-01-08         34.0        8.0  Cloudy\n",
      "2017-01-09         40.0       12.0   Sunny\n",
      "2017-01-10          NaN        NaN     NaN\n",
      "-----\n",
      "            temperature  windspeed   event\n",
      "day                                       \n",
      "2017-01-01    32.000000       6.00    Rain\n",
      "2017-01-02    30.000000       9.00   Sunny\n",
      "2017-01-03    28.000000       8.00    Snow\n",
      "2017-01-04    30.000000       7.00     NaN\n",
      "2017-01-05    32.000000       7.25    Rain\n",
      "2017-01-06    32.666667       7.50   Sunny\n",
      "2017-01-07    33.333333       7.75     NaN\n",
      "2017-01-08    34.000000       8.00  Cloudy\n",
      "2017-01-09    40.000000      12.00   Sunny\n",
      "2017-01-10    40.000000      12.00     NaN\n"
     ]
    },
    {
     "name": "stderr",
     "output_type": "stream",
     "text": [
      "C:\\Users\\RhysL\\AppData\\Local\\Temp\\ipykernel_16560\\2203812331.py:2: FutureWarning: DataFrame.interpolate with object dtype is deprecated and will raise in a future version. Call obj.infer_objects(copy=False) before interpolating instead.\n",
      "  new_df = df.interpolate()\n"
     ]
    }
   ],
   "source": [
    "# Basic interpolation\n",
    "new_df = df.interpolate()\n",
    "print(df)\n",
    "print(\"-----\")\n",
    "print(new_df)"
   ]
  },
  {
   "cell_type": "code",
   "execution_count": 12,
   "metadata": {},
   "outputs": [
    {
     "name": "stderr",
     "output_type": "stream",
     "text": [
      "C:\\Users\\RhysL\\AppData\\Local\\Temp\\ipykernel_16560\\3323370896.py:2: FutureWarning: DataFrame.interpolate with object dtype is deprecated and will raise in a future version. Call obj.infer_objects(copy=False) before interpolating instead.\n",
      "  new_df = df.interpolate(method=\"time\")\n"
     ]
    }
   ],
   "source": [
    "# Time-based interpolation\n",
    "new_df = df.interpolate(method=\"time\")\n",
    "# print(df)\n",
    "# print(\"-----\")\n",
    "# print(new_df)"
   ]
  },
  {
   "cell_type": "markdown",
   "metadata": {},
   "source": [
    "## Dropping Missing Values"
   ]
  },
  {
   "cell_type": "code",
   "execution_count": null,
   "metadata": {},
   "outputs": [],
   "source": [
    "# ### Drop all rows with any NaN values\n",
    "new_df = df.dropna()\n",
    "print(new_df)\n",
    "\n",
    "# ### Drop rows only if all values are NaN\n",
    "new_df = df.dropna(how='all')\n",
    "print(new_df)"
   ]
  },
  {
   "cell_type": "code",
   "execution_count": 13,
   "metadata": {},
   "outputs": [
    {
     "name": "stdout",
     "output_type": "stream",
     "text": [
      "            temperature  windspeed   event\n",
      "day                                       \n",
      "2017-01-01         32.0        6.0    Rain\n",
      "2017-01-02          NaN        9.0   Sunny\n",
      "2017-01-03         28.0        NaN    Snow\n",
      "2017-01-04          NaN        7.0     NaN\n",
      "2017-01-05         32.0        NaN    Rain\n",
      "2017-01-06          NaN        NaN   Sunny\n",
      "2017-01-07          NaN        NaN     NaN\n",
      "2017-01-08         34.0        8.0  Cloudy\n",
      "2017-01-09         40.0       12.0   Sunny\n",
      "2017-01-10          NaN        NaN     NaN\n",
      "-----\n",
      "            temperature  windspeed   event\n",
      "day                                       \n",
      "2017-01-01         32.0        6.0    Rain\n",
      "2017-01-02          NaN        9.0   Sunny\n",
      "2017-01-03         28.0        NaN    Snow\n",
      "2017-01-04          NaN        7.0     NaN\n",
      "2017-01-05         32.0        NaN    Rain\n",
      "2017-01-06          NaN        NaN   Sunny\n",
      "2017-01-08         34.0        8.0  Cloudy\n",
      "2017-01-09         40.0       12.0   Sunny\n"
     ]
    }
   ],
   "source": [
    "# ### Drop rows if less than a threshold of non-null values\n",
    "new_df = df.dropna(thresh=1)\n",
    "print(df)\n",
    "print(\"-----\")\n",
    "print(new_df)"
   ]
  },
  {
   "cell_type": "markdown",
   "metadata": {},
   "source": [
    "## Inserting Missing Dates"
   ]
  },
  {
   "cell_type": "code",
   "execution_count": 14,
   "metadata": {},
   "outputs": [
    {
     "name": "stdout",
     "output_type": "stream",
     "text": [
      "            temperature  windspeed   event\n",
      "2017-01-01         32.0        6.0    Rain\n",
      "2017-01-02          NaN        9.0   Sunny\n",
      "2017-01-03         28.0        NaN    Snow\n",
      "2017-01-04          NaN        7.0     NaN\n",
      "2017-01-05         32.0        NaN    Rain\n",
      "2017-01-06          NaN        NaN   Sunny\n",
      "2017-01-07          NaN        NaN     NaN\n",
      "2017-01-08         34.0        8.0  Cloudy\n",
      "2017-01-09         40.0       12.0   Sunny\n",
      "2017-01-10          NaN        NaN     NaN\n",
      "2017-01-11          NaN        NaN     NaN\n"
     ]
    }
   ],
   "source": [
    "# Sometimes, datasets miss certain dates. We can insert missing dates explicitly.\n",
    "\n",
    "dt = pd.date_range(\"01-01-2017\", \"01-11-2017\")\n",
    "idx = pd.DatetimeIndex(dt)\n",
    "df = df.reindex(idx)\n",
    "print(df)"
   ]
  },
  {
   "cell_type": "markdown",
   "metadata": {},
   "source": [
    "# Additional Data Cleaning Example"
   ]
  },
  {
   "cell_type": "code",
   "execution_count": 15,
   "metadata": {},
   "outputs": [
    {
     "name": "stdout",
     "output_type": "stream",
     "text": [
      "   first     last                    email      age\n",
      "0  Corey  Schafer  CoreyMSchafer@gmail.com       33\n",
      "1   Jane      Doe        JaneDoe@email.com       55\n",
      "2   John      Doe        JohnDoe@email.com       63\n",
      "3  Chris  Schafer                     None       36\n",
      "4    NaN      NaN                      NaN     None\n",
      "5   None      NaN      Anonymous@email.com     None\n",
      "6     NA  Missing                       NA  Missing\n"
     ]
    }
   ],
   "source": [
    "# This section includes another dataset showcasing how to handle missing values in different contexts.\n",
    "\n",
    "people = {\n",
    "    'first': ['Corey', 'Jane', 'John', 'Chris', np.nan, None, 'NA'], \n",
    "    'last': ['Schafer', 'Doe', 'Doe', 'Schafer', np.nan, np.nan, 'Missing'], \n",
    "    'email': ['CoreyMSchafer@gmail.com', 'JaneDoe@email.com', 'JohnDoe@email.com', None, np.nan, 'Anonymous@email.com', 'NA'],\n",
    "    'age': ['33', '55', '63', '36', None, None, 'Missing']\n",
    "}\n",
    "\n",
    "df_people = pd.DataFrame(people)\n",
    "print(df_people)"
   ]
  },
  {
   "cell_type": "code",
   "execution_count": 16,
   "metadata": {},
   "outputs": [
    {
     "name": "stdout",
     "output_type": "stream",
     "text": [
      "   first     last                    email   age\n",
      "0  Corey  Schafer  CoreyMSchafer@gmail.com    33\n",
      "1   Jane      Doe        JaneDoe@email.com    55\n",
      "2   John      Doe        JohnDoe@email.com    63\n",
      "3  Chris  Schafer                     None    36\n",
      "4    NaN      NaN                      NaN  None\n",
      "5   None      NaN      Anonymous@email.com  None\n",
      "6    NaN      NaN                      NaN   NaN\n"
     ]
    }
   ],
   "source": [
    "# Replacing placeholders with NaN\n",
    "df_people.replace(['NA', 'Missing'], np.nan, inplace=True)\n",
    "print(df_people)"
   ]
  },
  {
   "cell_type": "code",
   "execution_count": 17,
   "metadata": {},
   "outputs": [
    {
     "name": "stdout",
     "output_type": "stream",
     "text": [
      "   first     last                    email   age\n",
      "0  Corey  Schafer  CoreyMSchafer@gmail.com    33\n",
      "1   Jane      Doe        JaneDoe@email.com    55\n",
      "2   John      Doe        JohnDoe@email.com    63\n",
      "3  Chris  Schafer                     None    36\n",
      "5   None      NaN      Anonymous@email.com  None\n"
     ]
    }
   ],
   "source": [
    "# Drop only if all specified columns have NaN\n",
    "df_filtered = df_people.dropna(subset=['last', 'email'], how='all')\n",
    "print(df_filtered)"
   ]
  },
  {
   "cell_type": "code",
   "execution_count": 18,
   "metadata": {},
   "outputs": [
    {
     "data": {
      "text/html": [
       "<div>\n",
       "<style scoped>\n",
       "    .dataframe tbody tr th:only-of-type {\n",
       "        vertical-align: middle;\n",
       "    }\n",
       "\n",
       "    .dataframe tbody tr th {\n",
       "        vertical-align: top;\n",
       "    }\n",
       "\n",
       "    .dataframe thead th {\n",
       "        text-align: right;\n",
       "    }\n",
       "</style>\n",
       "<table border=\"1\" class=\"dataframe\">\n",
       "  <thead>\n",
       "    <tr style=\"text-align: right;\">\n",
       "      <th></th>\n",
       "      <th>first</th>\n",
       "      <th>last</th>\n",
       "      <th>email</th>\n",
       "      <th>age</th>\n",
       "    </tr>\n",
       "  </thead>\n",
       "  <tbody>\n",
       "    <tr>\n",
       "      <th>0</th>\n",
       "      <td>False</td>\n",
       "      <td>False</td>\n",
       "      <td>False</td>\n",
       "      <td>False</td>\n",
       "    </tr>\n",
       "    <tr>\n",
       "      <th>1</th>\n",
       "      <td>False</td>\n",
       "      <td>False</td>\n",
       "      <td>False</td>\n",
       "      <td>False</td>\n",
       "    </tr>\n",
       "    <tr>\n",
       "      <th>2</th>\n",
       "      <td>False</td>\n",
       "      <td>False</td>\n",
       "      <td>False</td>\n",
       "      <td>False</td>\n",
       "    </tr>\n",
       "    <tr>\n",
       "      <th>3</th>\n",
       "      <td>False</td>\n",
       "      <td>False</td>\n",
       "      <td>True</td>\n",
       "      <td>False</td>\n",
       "    </tr>\n",
       "    <tr>\n",
       "      <th>4</th>\n",
       "      <td>True</td>\n",
       "      <td>True</td>\n",
       "      <td>True</td>\n",
       "      <td>True</td>\n",
       "    </tr>\n",
       "    <tr>\n",
       "      <th>5</th>\n",
       "      <td>True</td>\n",
       "      <td>True</td>\n",
       "      <td>False</td>\n",
       "      <td>True</td>\n",
       "    </tr>\n",
       "    <tr>\n",
       "      <th>6</th>\n",
       "      <td>True</td>\n",
       "      <td>True</td>\n",
       "      <td>True</td>\n",
       "      <td>True</td>\n",
       "    </tr>\n",
       "  </tbody>\n",
       "</table>\n",
       "</div>"
      ],
      "text/plain": [
       "   first   last  email    age\n",
       "0  False  False  False  False\n",
       "1  False  False  False  False\n",
       "2  False  False  False  False\n",
       "3  False  False   True  False\n",
       "4   True   True   True   True\n",
       "5   True   True  False   True\n",
       "6   True   True   True   True"
      ]
     },
     "execution_count": 18,
     "metadata": {},
     "output_type": "execute_result"
    }
   ],
   "source": [
    "# Checking for missing values\n",
    "df_people.isna()\n"
   ]
  },
  {
   "cell_type": "code",
   "execution_count": 19,
   "metadata": {},
   "outputs": [
    {
     "name": "stdout",
     "output_type": "stream",
     "text": [
      "   first     last                    email age\n",
      "0  Corey  Schafer  CoreyMSchafer@gmail.com  33\n",
      "1   Jane      Doe        JaneDoe@email.com  55\n",
      "2   John      Doe        JohnDoe@email.com  63\n",
      "3  Chris  Schafer                        0  36\n",
      "4      0        0                        0   0\n",
      "5      0        0      Anonymous@email.com   0\n",
      "6      0        0                        0   0\n"
     ]
    }
   ],
   "source": [
    "# Fill missing values with 0\n",
    "df_filled = df_people.fillna(0)\n",
    "print(df_filled)"
   ]
  },
  {
   "cell_type": "code",
   "execution_count": 20,
   "metadata": {},
   "outputs": [
    {
     "name": "stdout",
     "output_type": "stream",
     "text": [
      "first     object\n",
      "last      object\n",
      "email     object\n",
      "age      float64\n",
      "dtype: object\n"
     ]
    }
   ],
   "source": [
    "# Converting age to numeric\n",
    "df_people['age'] = pd.to_numeric(df_people['age'], errors='coerce')\n",
    "print(df_people.dtypes)\n"
   ]
  }
 ],
 "metadata": {
  "kernelspec": {
   "display_name": "venv",
   "language": "python",
   "name": "python3"
  },
  "language_info": {
   "codemirror_mode": {
    "name": "ipython",
    "version": 3
   },
   "file_extension": ".py",
   "mimetype": "text/x-python",
   "name": "python",
   "nbconvert_exporter": "python",
   "pygments_lexer": "ipython3",
   "version": "3.12.5"
  }
 },
 "nbformat": 4,
 "nbformat_minor": 2
}
