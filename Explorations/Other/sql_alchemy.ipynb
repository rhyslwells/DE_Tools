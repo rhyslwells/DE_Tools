{
 "cells": [
  {
   "cell_type": "code",
   "execution_count": null,
   "metadata": {},
   "outputs": [],
   "source": [
    "import pandas as pd\n",
    "from sqlalchemy import create_engine, Column, Integer, String, ForeignKey\n",
    "from sqlalchemy.orm import declarative_base, sessionmaker, relationship"
   ]
  },
  {
   "cell_type": "code",
   "execution_count": 24,
   "metadata": {},
   "outputs": [],
   "source": [
    "# --- Create SQLite In-Memory Database ---\n",
    "DATABASE_URL = \"sqlite:///:memory:\"  # In-memory SQLite database\n",
    "engine = create_engine(DATABASE_URL, echo=False) # true if you want logging\n",
    "# Create a Base class for SQLAlchemy ORM\n",
    "Base = declarative_base()"
   ]
  },
  {
   "cell_type": "code",
   "execution_count": null,
   "metadata": {},
   "outputs": [],
   "source": [
    "# --- Define Employee Table ---\n",
    "class Employee(Base):\n",
    "    __tablename__ = 'employees'\n",
    "    id = Column(Integer, primary_key=True, autoincrement=True)\n",
    "    first = Column(String, nullable=False)\n",
    "    last = Column(String, nullable=False)\n",
    "    pay = Column(Integer)\n",
    "\n",
    "    # Relationship to Purchases\n",
    "    purchases = relationship(\"Purchase\", back_populates=\"employee\")\n",
    "\n",
    "    def __repr__(self):\n",
    "        return f\"<Employee(id={self.id}, first='{self.first}', last='{self.last}', pay={self.pay})>\"\n",
    "\n",
    "# --- Define Purchases Table ---\n",
    "class Purchase(Base):\n",
    "    __tablename__ = 'purchases'\n",
    "    id = Column(Integer, primary_key=True, autoincrement=True)\n",
    "    employee_id = Column(Integer, ForeignKey('employees.id'), nullable=False)\n",
    "    item = Column(String, nullable=False)\n",
    "    amount = Column(Integer, nullable=False)\n",
    "    \n",
    "    # Relationship to Employee\n",
    "    employee = relationship(\"Employee\", back_populates=\"purchases\")\n",
    "    \n",
    "    def __repr__(self):\n",
    "        return f\"<Purchase(id={self.id}, employee_id={self.employee_id}, item='{self.item}', amount={self.amount})>\"\n"
   ]
  },
  {
   "cell_type": "code",
   "execution_count": null,
   "metadata": {},
   "outputs": [],
   "source": [
    "# from pandasb"
   ]
  },
  {
   "cell_type": "code",
   "execution_count": null,
   "metadata": {},
   "outputs": [],
   "source": []
  },
  {
   "cell_type": "code",
   "execution_count": null,
   "metadata": {},
   "outputs": [],
   "source": [
    "# --- Create Tables ---\n",
    "Base.metadata.create_all(engine)\n",
    "Session = sessionmaker(bind=engine)\n",
    "session = Session()"
   ]
  },
  {
   "cell_type": "code",
   "execution_count": null,
   "metadata": {},
   "outputs": [],
   "source": [
    "# --- Insert Employees ---\n",
    "emp_1 = Employee(first='John', last='Doe', pay=80000)\n",
    "emp_2 = Employee(first='Jane', last='Doe', pay=90000)\n",
    "session.add_all([emp_1, emp_2])\n",
    "session.commit()\n"
   ]
  },
  {
   "cell_type": "code",
   "execution_count": null,
   "metadata": {},
   "outputs": [],
   "source": [
    "# --- Insert Purchases ---\n",
    "purchase_1 = Purchase(employee_id=emp_1.id, item='Laptop', amount=1200)\n",
    "purchase_2 = Purchase(employee_id=emp_2.id, item='Monitor', amount=300)\n",
    "session.add_all([purchase_1, purchase_2])\n",
    "session.commit()\n",
    "\n",
    "# --- Query: Get Employees by Last Name and Return as DataFrame ---\n",
    "def get_emps_by_name(lastname):\n",
    "    results = session.query(Employee).filter(Employee.last == lastname).all()\n",
    "    emp_data = [{\"id\": emp.id, \"first\": emp.first, \"last\": emp.last, \"pay\": emp.pay} for emp in results]\n",
    "    return pd.DataFrame(emp_data)\n",
    "\n",
    "print(\"\\nEmployees DataFrame:\")\n",
    "print(get_emps_by_name('Doe'))\n",
    "\n",
    "# --- Query: Join Employees and Purchases ---\n",
    "def get_employee_purchases():\n",
    "    query = session.query(Employee.first, Employee.last, Purchase.item, Purchase.amount).\\\n",
    "        join(Purchase, Employee.id == Purchase.employee_id).all()\n",
    "    \n",
    "    purchase_data = [{\"first\": emp, \"last\": last, \"item\": item, \"amount\": amount} for emp, last, item, amount in query]\n",
    "    return pd.DataFrame(purchase_data)\n",
    "\n",
    "print(\"\\nEmployee Purchases:\")\n",
    "print(get_employee_purchases())\n",
    "\n",
    "# --- Close Session ---\n",
    "session.close()"
   ]
  },
  {
   "cell_type": "code",
   "execution_count": 28,
   "metadata": {},
   "outputs": [
    {
     "name": "stdout",
     "output_type": "stream",
     "text": [
      "\n",
      "Employees DataFrame:\n",
      "   first last    pay\n",
      "0  John  Doe  80000\n",
      "1  Jane  Doe  90000\n"
     ]
    }
   ],
   "source": [
    "# --- Query: Get Employees by Last Name and Return as DataFrame ---\n",
    "def get_emps_by_name(lastname):\n",
    "    results = session.query(Employee).filter(Employee.last == lastname).all()\n",
    "    \n",
    "    # Convert to a list of dictionaries\n",
    "    emp_data = [{\"first\": emp.first, \"last\": emp.last, \"pay\": emp.pay} for emp in results]\n",
    "    \n",
    "    # Convert to DataFrame\n",
    "    return pd.DataFrame(emp_data)\n",
    "\n",
    "# Fetch employees as a DataFrame\n",
    "df_emps = get_emps_by_name('Doe')\n",
    "print(\"\\nEmployees DataFrame:\\n\", df_emps)\n"
   ]
  },
  {
   "cell_type": "code",
   "execution_count": 29,
   "metadata": {},
   "outputs": [],
   "source": [
    "# --- Update Employee Pay ---\n",
    "def update_pay(emp, new_pay):\n",
    "    emp.pay = new_pay\n",
    "    session.commit()\n",
    "\n",
    "update_pay(emp_2, 95000)"
   ]
  },
  {
   "cell_type": "code",
   "execution_count": 30,
   "metadata": {},
   "outputs": [],
   "source": [
    "# --- Remove an Employee ---\n",
    "def remove_emp(emp):\n",
    "    session.delete(emp)\n",
    "    session.commit()\n",
    "\n",
    "remove_emp(emp_1)"
   ]
  },
  {
   "cell_type": "code",
   "execution_count": 32,
   "metadata": {},
   "outputs": [
    {
     "name": "stdout",
     "output_type": "stream",
     "text": [
      "\n",
      "Updated Employees:\n",
      "   first last    pay\n",
      "0  Jane  Doe  95000\n"
     ]
    }
   ],
   "source": [
    "# Verify Updates\n",
    "emps = get_emps_by_name('Doe')\n",
    "print(\"\\nUpdated Employees:\\n\", emps)"
   ]
  },
  {
   "cell_type": "code",
   "execution_count": null,
   "metadata": {},
   "outputs": [],
   "source": [
    "# --- Load and Execute SQL Query from File ---\n",
    "query_file = \"sql_queries/Q1.txt\"\n",
    "try:\n",
    "    with open(query_file, \"r\") as file:\n",
    "        query = file.read().strip()\n",
    "\n",
    "    print(f\"\\nExecuting Query from {query_file}:\\n{query}\")\n",
    "    df_query_result = pd.read_sql_query(query, con=engine)\n",
    "    print(\"\\nQuery Result:\")\n",
    "    print(df_query_result)\n",
    "\n",
    "except FileNotFoundError:\n",
    "    print(f\"\\nError: Query file '{query_file}' not found.\")"
   ]
  },
  {
   "cell_type": "code",
   "execution_count": null,
   "metadata": {},
   "outputs": [],
   "source": [
    "# --- Append Data from CSV File ---\n",
    "csv_file = \"customers.csv\"\n",
    "try:\n",
    "    df_csv = pd.read_csv(csv_file)\n",
    "\n",
    "    # Rename columns to match database schema\n",
    "    df_csv.rename(columns={\n",
    "        'Customer Name': 'name',\n",
    "        'Customer Phone': 'phone_number'\n",
    "    }, inplace=True)\n",
    "\n",
    "    # Append to the database\n",
    "    df_csv.to_sql(name='customers', con=engine, if_exists='append', index=False)\n",
    "    print(f\"\\nData from {csv_file} appended to 'customers' table.\")\n",
    "\n",
    "except FileNotFoundError:\n",
    "    print(f\"\\nError: CSV file '{csv_file}' not found.\")\n",
    "\n",
    "# Close session\n",
    "session.close()\n"
   ]
  }
 ],
 "metadata": {
  "kernelspec": {
   "display_name": "venv",
   "language": "python",
   "name": "python3"
  },
  "language_info": {
   "codemirror_mode": {
    "name": "ipython",
    "version": 3
   },
   "file_extension": ".py",
   "mimetype": "text/x-python",
   "name": "python",
   "nbconvert_exporter": "python",
   "pygments_lexer": "ipython3",
   "version": "3.12.5"
  }
 },
 "nbformat": 4,
 "nbformat_minor": 2
}
