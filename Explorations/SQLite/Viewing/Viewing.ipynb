{
 "cells": [
  {
   "cell_type": "code",
   "execution_count": null,
   "metadata": {},
   "outputs": [],
   "source": [
    "import sqlite3\n",
    "import shutil\n",
    "\n",
    "# Define database paths\n",
    "original_db_path = \"../Datasets/database/longlist.db\"\n",
    "copied_db_path = \"Outputs/long_list_viewing.db\"\n",
    "\n",
    "# Make a copy of the original database\n",
    "shutil.copy(original_db_path, copied_db_path)\n",
    "print(\"Database copied to 'Outputs/long_list_viewing.db'.\")\n",
    "\n",
    "# Connect to the copied database\n",
    "conn = sqlite3.connect(copied_db_path)\n",
    "cursor = conn.cursor()\n"
   ]
  },
  {
   "cell_type": "markdown",
   "metadata": {},
   "source": [
    "#### Simplifying"
   ]
  },
  {
   "cell_type": "code",
   "execution_count": null,
   "metadata": {},
   "outputs": [],
   "source": [
    "-- Demonstrates views for simplifying data access\n",
    "-- Uses longlist.db\n",
    "\n",
    "-- Finds books written by Fernanda Melchor\n",
    "SELECT \"title\" FROM \"books\"\n",
    "WHERE \"id\" IN (\n",
    "    SELECT \"book_id\" FROM \"authored\"\n",
    "    WHERE \"author_id\" = (\n",
    "        SELECT \"id\" FROM \"authors\"\n",
    "        WHERE \"name\" = 'Fernanda Melchor'\n",
    "    )\n",
    ");\n",
    "\n",
    "-- Joins authors with their book titles\n",
    "SELECT \"name\", \"title\" FROM \"authors\"\n",
    "JOIN \"authored\" ON \"authors\".\"id\" = \"authored\".\"author_id\"\n",
    "JOIN \"books\" ON \"books\".\"id\" = \"authored\".\"book_id\";\n",
    "\n",
    "-- Creates a view from the query to join authors with their book titles\n",
    "CREATE VIEW \"longlist\" AS\n",
    "SELECT \"name\", \"title\" FROM \"authors\"\n",
    "JOIN \"authored\" ON \"authors\".\"id\" = \"authored\".\"author_id\"\n",
    "JOIN \"books\" ON \"books\".\"id\" = \"authored\".\"book_id\";\n",
    "\n",
    "-- Returns first five rows from view\n",
    "SELECT * FROM \"longlist\" LIMIT 5;\n",
    "\n",
    "-- Finds books written by Fernanda Melchor, now using a view\n",
    "SELECT \"title\" FROM \"longlist\" WHERE \"name\" = 'Fernanda Melchor';\n"
   ]
  },
  {
   "cell_type": "markdown",
   "metadata": {},
   "source": [
    "#### Aggregating"
   ]
  },
  {
   "cell_type": "code",
   "execution_count": null,
   "metadata": {},
   "outputs": [],
   "source": [
    "-- Demonstrates views for aggregating data\n",
    "-- Uses longlist.db\n",
    "\n",
    "-- Views ratings table\n",
    "SELECT * FROM \"ratings\";\n",
    "\n",
    "-- Returns book IDs and unrounded ratings\n",
    "SELECT \"book_id\", AVG(\"rating\") AS \"rating\" FROM \"ratings\"\n",
    "GROUP BY \"book_id\";\n",
    "\n",
    "-- Returns book IDs and rounded ratings\n",
    "SELECT \"book_id\", ROUND(AVG(\"rating\"), 2) AS \"rating\" FROM \"ratings\"\n",
    "GROUP BY \"book_id\";\n",
    "\n",
    "-- Adds book IDs, rounded ratings, title, and year columns\n",
    "SELECT \"book_id\", \"title\", \"year\", ROUND(AVG(\"rating\"), 2) AS \"rating\" FROM \"ratings\"\n",
    "JOIN \"books\" ON \"ratings\".\"book_id\" = \"books\".\"id\"\n",
    "GROUP BY \"book_id\";\n",
    "\n",
    "-- Defines book IDs, rounded ratings, title, and year columns as a view\n",
    "CREATE VIEW \"average_book_ratings\" AS\n",
    "SELECT \"book_id\" AS \"id\", \"title\", \"year\", ROUND(AVG(\"rating\"), 2) AS \"rating\" FROM \"ratings\"\n",
    "JOIN \"books\" ON \"ratings\".\"book_id\" = \"books\".\"id\"\n",
    "GROUP BY \"book_id\";\n",
    "\n",
    "-- Finds average book ratings by year nominated\n",
    "SELECT \"year\", ROUND(AVG(\"rating\"), 2) AS \"rating\" FROM \"average_book_ratings\" \n",
    "GROUP BY \"year\";\n",
    "\n",
    "-- Creates temporary view of average ratings by year\n",
    "CREATE TEMPORARY VIEW \"average_ratings_by_year\" (\"year\", \"rating\") AS\n",
    "SELECT \"year\", ROUND(AVG(\"rating\"), 2) AS \"rating\" FROM \"average_book_ratings\" \n",
    "GROUP BY \"year\";\n",
    "\n",
    "-- Drops the view \"average_book_ratings\"\n",
    "DROP VIEW \"average_book_ratings\";\n",
    "\n",
    "-- Shows that CTEs are views accessible for the duration of a query\n",
    "WITH \"average_book_ratings\" AS (\n",
    "  SELECT \"book_id\", \"title\", \"year\", ROUND(AVG(\"rating\"), 2) AS \"rating\" FROM \"ratings\"\n",
    "  JOIN \"books\" ON \"ratings\".\"book_id\" = \"books\".\"id\"\n",
    "  GROUP BY \"book_id\"\n",
    "),\n",
    "SELECT \"year\" ROUND(AVG(\"rating\"), 2) AS \"rating\" FROM \"average_book_ratings\"\n",
    "GROUP BY \"year\";\n"
   ]
  },
  {
   "cell_type": "markdown",
   "metadata": {},
   "source": [
    "#### Partitioning"
   ]
  },
  {
   "cell_type": "code",
   "execution_count": null,
   "metadata": {},
   "outputs": [],
   "source": [
    "-- Demonstrates views for partitioning data\n",
    "-- Uses longlist.db\n",
    "\n",
    "-- Queries for 2022 longlisted books\n",
    "SELECT \"id\", \"title\" FROM \"books\"\n",
    "WHERE \"year\" = 2022;\n",
    "\n",
    "-- Creates view of 2022 longlisted books\n",
    "CREATE VIEW \"2022\" AS\n",
    "SELECT \"id\", \"title\" FROM \"books\"\n",
    "WHERE \"year\" = 2022;\n",
    "\n",
    "-- Queries for 2021 longlisted books\n",
    "SELECT \"id\", \"title\" FROM \"books\"\n",
    "WHERE \"year\" = 2021;\n",
    "\n",
    "-- Creates view of 2021 longlisted books\n",
    "CREATE VIEW \"2021\" AS\n",
    "SELECT \"id\", \"title\" FROM \"books\"\n",
    "WHERE \"year\" = 2021;\n"
   ]
  },
  {
   "cell_type": "markdown",
   "metadata": {},
   "source": [
    "#### Securing"
   ]
  },
  {
   "cell_type": "code",
   "execution_count": null,
   "metadata": {},
   "outputs": [],
   "source": [
    "Modify this to long list db\n",
    "\n",
    "-- Demonstrates views for securing data\n",
    "-- Uses rideshare.db\n",
    "\n",
    "CREATE TABLE \"rides\" (\n",
    "    \"id\" INTEGER,\n",
    "    \"origin\" TEXT NOT NULL,\n",
    "    \"destination\" INTEGER NOT NULL,\n",
    "    \"rider\" TEXT NOT NULL,\n",
    "    PRIMARY KEY(\"id\")\n",
    ");\n",
    "\n",
    "INSERT INTO \"rides\" (\"origin\", \"destination\", \"rider\")\n",
    "VALUES\n",
    "('Good Egg Galaxy', 'Honeyhive Galaxy', 'Peach'),\n",
    "('Castle Courtyard', 'Cascade Kingdom', 'Mario'),\n",
    "('Metro Kingdom', 'Mushroom Kingdom', 'Luigi'),\n",
    "('Seaside Kingdom', 'Deep Woods', 'Bowser');\n",
    "\n",
    "-- Reveals all rides information\n",
    "SELECT * FROM \"rides\";\n",
    "\n",
    "-- Reveals only subset of columns\n",
    "SELECT \"id\", \"origin\", \"destination\" FROM \"rides\";\n",
    "\n",
    "-- Makes clear that rider is anonymous\n",
    "SELECT \"id\", \"origin\", \"destination\", 'Anonymous' AS \"rider\" FROM \"rides\";\n",
    "\n",
    "-- Creates a view\n",
    "CREATE VIEW \"analysis\" AS\n",
    "SELECT \"id\", \"origin\", \"destination\", 'Anonymous' AS \"rider\" FROM \"rides\";\n",
    "\n",
    "-- Queries the view\n",
    "SELECT \"origin\", \"destination\", \"rider\" FROM \"analysis\";\n"
   ]
  }
 ],
 "metadata": {
  "language_info": {
   "name": "python"
  }
 },
 "nbformat": 4,
 "nbformat_minor": 2
}
