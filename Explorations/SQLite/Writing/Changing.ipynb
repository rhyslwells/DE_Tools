{
 "cells": [
  {
   "cell_type": "code",
   "execution_count": 1,
   "metadata": {},
   "outputs": [
    {
     "name": "stdout",
     "output_type": "stream",
     "text": [
      "Database copied to 'Outputs/long_list_changed.db'.\n",
      "Database operations completed.\n"
     ]
    }
   ],
   "source": [
    "import sqlite3\n",
    "import shutil\n",
    "\n",
    "# Define database paths\n",
    "original_db_path = \"../Datasets/database/longlist.db\"\n",
    "copied_db_path = \"Outputs/long_list_changed.db\"\n",
    "\n",
    "# Make a copy of the original database\n",
    "shutil.copy(original_db_path, copied_db_path)\n",
    "print(\"Database copied to 'Outputs/long_list_changed.db'.\")\n",
    "\n",
    "# Connect to the copied database\n",
    "conn = sqlite3.connect(copied_db_path)\n",
    "cursor = conn.cursor()\n"
   ]
  },
  {
   "cell_type": "code",
   "execution_count": null,
   "metadata": {},
   "outputs": [],
   "source": [
    "\n",
    "# 1. Demonstrates removing a table (Example: Removing 'ratings' table)\n",
    "cursor.execute(\"DROP TABLE IF EXISTS ratings;\")\n",
    "print(\"Table 'ratings' removed.\")\n"
   ]
  },
  {
   "cell_type": "code",
   "execution_count": null,
   "metadata": {},
   "outputs": [],
   "source": [
    "\n",
    "# 2. Demonstrates renaming a table (Example: Renaming 'publishers' to 'book_publishers')\n",
    "cursor.execute(\"ALTER TABLE publishers RENAME TO book_publishers;\")\n",
    "print(\"Table 'publishers' renamed to 'book_publishers'.\")\n"
   ]
  },
  {
   "cell_type": "code",
   "execution_count": null,
   "metadata": {},
   "outputs": [],
   "source": [
    "\n",
    "# 3. Demonstrates adding a column to a table (Example: Adding 'genre' column to 'books')\n",
    "cursor.execute(\"ALTER TABLE books ADD COLUMN genre TEXT;\")\n",
    "print(\"Column 'genre' added to 'books'.\")\n"
   ]
  },
  {
   "cell_type": "code",
   "execution_count": null,
   "metadata": {},
   "outputs": [],
   "source": [
    "\n",
    "# 4. Demonstrates renaming a column (Example: Renaming 'format' to 'book_format' in 'books')\n",
    "cursor.execute(\"ALTER TABLE books RENAME COLUMN format TO book_format;\")\n",
    "print(\"Column 'format' renamed to 'book_format' in 'books'.\")\n"
   ]
  },
  {
   "cell_type": "code",
   "execution_count": null,
   "metadata": {},
   "outputs": [],
   "source": [
    "\n",
    "# Commit changes and close connection\n",
    "conn.commit()\n",
    "conn.close()\n",
    "print(\"Database operations completed.\")\n"
   ]
  },
  {
   "cell_type": "code",
   "execution_count": null,
   "metadata": {},
   "outputs": [],
   "source": []
  }
 ],
 "metadata": {
  "kernelspec": {
   "display_name": "venv",
   "language": "python",
   "name": "python3"
  },
  "language_info": {
   "codemirror_mode": {
    "name": "ipython",
    "version": 3
   },
   "file_extension": ".py",
   "mimetype": "text/x-python",
   "name": "python",
   "nbconvert_exporter": "python",
   "pygments_lexer": "ipython3",
   "version": "3.12.5"
  }
 },
 "nbformat": 4,
 "nbformat_minor": 2
}
