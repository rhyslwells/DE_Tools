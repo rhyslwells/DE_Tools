{
 "cells": [
  {
   "cell_type": "markdown",
   "metadata": {},
   "source": [
    "### CSV"
   ]
  },
  {
   "cell_type": "markdown",
   "metadata": {},
   "source": [
    "#### Saving SQLite database tables to CSV\n"
   ]
  },
  {
   "cell_type": "code",
   "execution_count": null,
   "metadata": {},
   "outputs": [
    {
     "name": "stdout",
     "output_type": "stream",
     "text": [
      "Saved collections.csv\n",
      "Saved artists.csv\n",
      "Saved created.csv\n"
     ]
    }
   ],
   "source": [
    "import sqlite3\n",
    "import pandas as pd\n",
    "\n",
    "# Connect to SQLite database\n",
    "database_path = \"../Datasets/database/mfa.db\"\n",
    "conn = sqlite3.connect(database_path)\n",
    "\n",
    "# Get all table names\n",
    "query = \"SELECT name FROM sqlite_master WHERE type='table';\"\n",
    "tables = pd.read_sql(query, conn)\n",
    "\n",
    "# Loop through each table and save it as a CSV\n",
    "for table_name in tables[\"name\"]:\n",
    "    df = pd.read_sql(f\"SELECT * FROM {table_name};\", conn)\n",
    "    df.to_csv(f\"{table_name}.csv\", index=False)\n",
    "    # print(f\"Saved {table_name}.csv\")\n",
    "\n",
    "# Close the connection\n",
    "conn.close()"
   ]
  },
  {
   "cell_type": "markdown",
   "metadata": {},
   "source": [
    "#### Creating a SQLite database from CSV files"
   ]
  },
  {
   "cell_type": "markdown",
   "metadata": {},
   "source": [
    "\n",
    "The process involves:  \n",
    "\n",
    "1. **Defining the Schema** – Deleting existing tables (if they exist) and creating new ones with appropriate constraints.  \n",
    "2. **Loading CSV Data** – Reading data from CSV files into Pandas DataFrames.  \n",
    "3. **Inserting Data into the Database** – Writing the CSV data into the corresponding SQLite tables.  "
   ]
  },
  {
   "cell_type": "code",
   "execution_count": null,
   "metadata": {},
   "outputs": [
    {
     "name": "stdout",
     "output_type": "stream",
     "text": [
      "Database created and saved successfully at Examples/art_museum.db.\n"
     ]
    }
   ],
   "source": [
    "import sqlite3\n",
    "import pandas as pd\n",
    "import os\n",
    "\n",
    "# Define CSV file paths\n",
    "DATA_DIR = '../Datasets/csv/mfa/'\n",
    "ARTISTS_CSV = os.path.join(DATA_DIR, 'artists.csv')\n",
    "COLLECTIONS_CSV = os.path.join(DATA_DIR, 'collections.csv')\n",
    "CREATED_CSV = os.path.join(DATA_DIR, 'created.csv')\n",
    "\n",
    "# Define and create database file path\n",
    "DB_PATH = \"Outputs/art_museum.db\"\n",
    "\n",
    "# Connect to SQLite database\n",
    "conn = sqlite3.connect(DB_PATH)\n",
    "cursor = conn.cursor()\n",
    "\n",
    "try:\n",
    "    # Step 1: Delete existing tables if they exist\n",
    "    cursor.executescript(\"\"\"\n",
    "        DROP TABLE IF EXISTS collections;\n",
    "        DROP TABLE IF EXISTS artists;\n",
    "        DROP TABLE IF EXISTS created;\n",
    "    \"\"\")\n",
    "    \n",
    "    # Step 2: Create tables\n",
    "    cursor.executescript(\"\"\"\n",
    "        CREATE TABLE collections (\n",
    "            id INTEGER PRIMARY KEY,\n",
    "            title TEXT NOT NULL,\n",
    "            accession_number TEXT NOT NULL UNIQUE,\n",
    "            acquired NUMERIC\n",
    "        );\n",
    "        \n",
    "        CREATE TABLE artists (\n",
    "            id INTEGER PRIMARY KEY,\n",
    "            name TEXT NOT NULL\n",
    "        );\n",
    "        \n",
    "        CREATE TABLE created (\n",
    "            artist_id INTEGER,\n",
    "            collection_id INTEGER,\n",
    "            PRIMARY KEY (artist_id, collection_id),\n",
    "            FOREIGN KEY (artist_id) REFERENCES artists(id),\n",
    "            FOREIGN KEY (collection_id) REFERENCES collections(id)\n",
    "        );\n",
    "    \"\"\")\n",
    "    \n",
    "    conn.commit()\n",
    "    \n",
    "    # Step 3: Load CSVs into DataFrames\n",
    "    artists_df = pd.read_csv(ARTISTS_CSV)\n",
    "    collections_df = pd.read_csv(COLLECTIONS_CSV)\n",
    "    created_df = pd.read_csv(CREATED_CSV)\n",
    "    \n",
    "    # Step 4: Import CSV data into SQLite\n",
    "    artists_df.to_sql(\"artists\", conn, if_exists='append', index=False)\n",
    "    collections_df.to_sql(\"collections\", conn, if_exists='append', index=False)\n",
    "    created_df.to_sql(\"created\", conn, if_exists='append', index=False)\n",
    "    \n",
    "    conn.commit()\n",
    "    print(f\"Database created and saved successfully at {DB_PATH}.\")\n",
    "\n",
    "except Exception as e:\n",
    "    print(f\"Error: {e}\")\n",
    "    conn.rollback()\n",
    "\n",
    "finally:\n",
    "    conn.close()\n"
   ]
  },
  {
   "cell_type": "code",
   "execution_count": null,
   "metadata": {},
   "outputs": [
    {
     "name": "stdout",
     "output_type": "stream",
     "text": [
      "Tables in database: [('collections',), ('artists',), ('created',)]\n",
      "\n",
      "Testing table: artists\n",
      "(1, 'Li Yin')\n",
      "(2, 'Qian Weicheng')\n",
      "(3, 'Unidentified artist')\n",
      "(4, 'Zhou Chen')\n",
      "\n",
      "Testing table: collections\n",
      "(1, 'Farmers working at dawn', '11.6152', '1911-08-03')\n",
      "(2, 'Imaginative landscape', '56.496', None)\n",
      "(3, 'Profusion of flowers', '56.257', '1956-04-12')\n",
      "(4, 'Spring outing', '14.76', '1914-01-08')\n",
      "\n",
      "Testing table: created\n",
      "(1, 2)\n",
      "(2, 3)\n",
      "(3, 1)\n",
      "(4, 4)\n"
     ]
    }
   ],
   "source": [
    "# Load and test:\n",
    "\n",
    "import sqlite3\n",
    "\n",
    "# Define database path\n",
    "DB_PATH = \"Outputs/art_museum.db\"\n",
    "\n",
    "# Connect to the database\n",
    "conn = sqlite3.connect(DB_PATH)\n",
    "cursor = conn.cursor()\n",
    "\n",
    "# Test: Check if tables exist\n",
    "cursor.execute(\"SELECT name FROM sqlite_master WHERE type='table';\")\n",
    "tables = cursor.fetchall()\n",
    "print(\"Tables in database:\", tables)\n",
    "\n",
    "# Test: Retrieve a few records from each table\n",
    "for table in [\"artists\", \"collections\", \"created\"]:\n",
    "    print(f\"\\nTesting table: {table}\")\n",
    "    cursor.execute(f\"SELECT * FROM {table} LIMIT 5;\")\n",
    "    rows = cursor.fetchall()\n",
    "    for row in rows:\n",
    "        print(row)\n",
    "\n",
    "# Close connection\n",
    "conn.close()\n"
   ]
  },
  {
   "cell_type": "markdown",
   "metadata": {},
   "source": [
    "#### Load data from an xlsx spreadsheet to a database."
   ]
  },
  {
   "cell_type": "code",
   "execution_count": null,
   "metadata": {},
   "outputs": [
    {
     "name": "stdout",
     "output_type": "stream",
     "text": [
      "Database created and saved successfully at Examples/art_museum_excel.db.\n"
     ]
    }
   ],
   "source": [
    "import sqlite3\n",
    "import pandas as pd\n",
    "import os\n",
    "\n",
    "# Define file paths\n",
    "EXCEL_FILE = \"../Datasets/excel/mfa.xlsx\"\n",
    "DB_PATH = \"Outputs/art_museum_excel.db\"\n",
    "\n",
    "# Connect to SQLite database\n",
    "conn = sqlite3.connect(DB_PATH)\n",
    "cursor = conn.cursor()\n",
    "\n",
    "try:\n",
    "    # Step 1: Delete existing tables if they exist\n",
    "    cursor.executescript(\"\"\"\n",
    "        DROP TABLE IF EXISTS collections;\n",
    "        DROP TABLE IF EXISTS artists;\n",
    "        DROP TABLE IF EXISTS created;\n",
    "    \"\"\")\n",
    "    \n",
    "    # Step 2: Create tables\n",
    "    cursor.executescript(\"\"\"\n",
    "        CREATE TABLE collections (\n",
    "            id INTEGER PRIMARY KEY,\n",
    "            title TEXT NOT NULL,\n",
    "            accession_number TEXT NOT NULL UNIQUE,\n",
    "            acquired NUMERIC\n",
    "        );\n",
    "        \n",
    "        CREATE TABLE artists (\n",
    "            id INTEGER PRIMARY KEY,\n",
    "            name TEXT NOT NULL\n",
    "        );\n",
    "        \n",
    "        CREATE TABLE created (\n",
    "            artist_id INTEGER,\n",
    "            collection_id INTEGER,\n",
    "            PRIMARY KEY (artist_id, collection_id),\n",
    "            FOREIGN KEY (artist_id) REFERENCES artists(id),\n",
    "            FOREIGN KEY (collection_id) REFERENCES collections(id)\n",
    "        );\n",
    "    \"\"\")\n",
    "    \n",
    "    conn.commit()\n",
    "\n",
    "    # Step 3: Load Excel sheets into DataFrames\n",
    "    df_dict = pd.read_excel(EXCEL_FILE, sheet_name=None)  # Load all sheets\n",
    "\n",
    "    # Extract DataFrames\n",
    "    artists_df = df_dict.get(\"artists\", pd.DataFrame())  # Ensure it exists\n",
    "    collections_df = df_dict.get(\"collections\", pd.DataFrame())\n",
    "    created_df = df_dict.get(\"created\", pd.DataFrame())\n",
    "\n",
    "    # Step 4: Import data into SQLite\n",
    "    if not artists_df.empty:\n",
    "        artists_df.to_sql(\"artists\", conn, if_exists='append', index=False)\n",
    "    if not collections_df.empty:\n",
    "        collections_df.to_sql(\"collections\", conn, if_exists='append', index=False)\n",
    "    if not created_df.empty:\n",
    "        created_df.to_sql(\"created\", conn, if_exists='append', index=False)\n",
    "\n",
    "    conn.commit()\n",
    "    print(f\"Database created and saved successfully at {DB_PATH}.\")\n",
    "\n",
    "except Exception as e:\n",
    "    print(f\"Error: {e}\")\n",
    "    conn.rollback()\n",
    "finally:\n",
    "    conn.close()\n"
   ]
  },
  {
   "cell_type": "code",
   "execution_count": null,
   "metadata": {},
   "outputs": [],
   "source": [
    "# put schema in a text file #todo\n"
   ]
  },
  {
   "cell_type": "markdown",
   "metadata": {},
   "source": []
  },
  {
   "cell_type": "markdown",
   "metadata": {},
   "source": []
  }
 ],
 "metadata": {
  "kernelspec": {
   "display_name": "venv",
   "language": "python",
   "name": "python3"
  },
  "language_info": {
   "codemirror_mode": {
    "name": "ipython",
    "version": 3
   },
   "file_extension": ".py",
   "mimetype": "text/x-python",
   "name": "python",
   "nbconvert_exporter": "python",
   "pygments_lexer": "ipython3",
   "version": "3.12.5"
  }
 },
 "nbformat": 4,
 "nbformat_minor": 2
}
