{
 "cells": [
  {
   "cell_type": "code",
   "execution_count": 16,
   "metadata": {},
   "outputs": [],
   "source": [
    "import sqlite3\n",
    "import pandas as pd\n",
    "\n",
    "# Connect to SQLite database\n",
    "database_path=\"../Datasets/database/longlist.db\"\n",
    "conn = sqlite3.connect(database_path)\n",
    "\n",
    "# Create a cursor object\n",
    "cursor = conn.cursor()"
   ]
  },
  {
   "cell_type": "code",
   "execution_count": 2,
   "metadata": {},
   "outputs": [
    {
     "name": "stdout",
     "output_type": "stream",
     "text": [
      "Database Tables:\n",
      "           name\n",
      "0      authors\n",
      "1     authored\n",
      "2        books\n",
      "3   publishers\n",
      "4      ratings\n",
      "5  translators\n",
      "6   translated\n"
     ]
    }
   ],
   "source": [
    "# Get database info: List all tables\n",
    "tables_query = \"SELECT name FROM sqlite_master WHERE type='table';\"\n",
    "tables = pd.read_sql(tables_query, conn)\n",
    "print(\"Database Tables:\\n\", tables)"
   ]
  },
  {
   "cell_type": "code",
   "execution_count": 5,
   "metadata": {},
   "outputs": [
    {
     "name": "stdout",
     "output_type": "stream",
     "text": [
      "\n",
      "Table Schema for 'episodes':\n",
      "    cid     name     type  notnull dflt_value  pk\n",
      "0    0       id  INTEGER        0       None   1\n",
      "1    1     name     TEXT        0       None   0\n",
      "2    2  country     TEXT        0       None   0\n",
      "3    3    birth  INTEGER        0       None   0\n"
     ]
    }
   ],
   "source": [
    "# Get column info for the 'episodes' table\n",
    "table=\"authors\"\n",
    "columns_query = f\"PRAGMA table_info({table});\"\n",
    "columns = pd.read_sql(columns_query, conn)\n",
    "print(\"\\nTable Schema for 'episodes':\\n\", columns)"
   ]
  },
  {
   "cell_type": "code",
   "execution_count": 6,
   "metadata": {},
   "outputs": [
    {
     "name": "stdout",
     "output_type": "stream",
     "text": [
      "\n",
      "First 5 authors:\n",
      "    id                 name    country  birth\n",
      "0   1        Adania Shibli  Palestine   1974\n",
      "1   2        Ahmed Saadawi       Iraq   1973\n",
      "2   3  Alia Trabucco Zerán      Chile   1983\n",
      "3   4      Amanda Svensson     Sweden   1987\n",
      "4   5        Andrey Kurkov    Ukraine   1961\n"
     ]
    }
   ],
   "source": [
    "# Query 1: Get the first 5 authors\n",
    "df = pd.read_sql(\"SELECT * FROM authors LIMIT 5\", conn)\n",
    "print(\"\\nFirst 5 authors:\\n\", df)"
   ]
  },
  {
   "cell_type": "code",
   "execution_count": 7,
   "metadata": {},
   "outputs": [
    {
     "name": "stdout",
     "output_type": "stream",
     "text": [
      "\n",
      "Total Authors:\n",
      "    total_authors\n",
      "0             72\n"
     ]
    }
   ],
   "source": [
    "# Query 2: Count total authors\n",
    "df_count = pd.read_sql(\"SELECT COUNT(*) AS total_authors FROM authors\", conn)\n",
    "print(\"\\nTotal Authors:\\n\", df_count)"
   ]
  },
  {
   "cell_type": "code",
   "execution_count": 12,
   "metadata": {},
   "outputs": [
    {
     "name": "stdout",
     "output_type": "stream",
     "text": [
      "\n",
      "Authors from Spain 3:\n",
      "    id                  name country  birth\n",
      "0  26       Gabriela Ybarra   Spain   1983\n",
      "1  23          Eva Baltasar   Spain   1978\n",
      "2  35         Javier Cercas   Spain   1962\n",
      "3   8  Antonio Muñoz Molina   Spain   1956\n",
      "4  21    Enrique Vila-Matas   Spain   1948\n"
     ]
    }
   ],
   "source": [
    "# Query 3: Authors from Season 3\n",
    "df_season3 = pd.read_sql(\"SELECT * FROM authors WHERE country = 'Spain' ORDER by birth DESC\", conn)\n",
    "print(\"\\nAuthors from Spain 3:\\n\", df_season3)"
   ]
  },
  {
   "cell_type": "code",
   "execution_count": null,
   "metadata": {},
   "outputs": [],
   "source": [
    "# Close connection\n",
    "conn.close()"
   ]
  },
  {
   "cell_type": "markdown",
   "metadata": {},
   "source": [
    "### Loading from SQL file"
   ]
  },
  {
   "cell_type": "code",
   "execution_count": 20,
   "metadata": {},
   "outputs": [],
   "source": [
    "cursor = conn.cursor()"
   ]
  },
  {
   "cell_type": "code",
   "execution_count": 21,
   "metadata": {},
   "outputs": [
    {
     "name": "stdout",
     "output_type": "stream",
     "text": [
      "     id                publisher\n",
      "0    1        And Other Stories\n",
      "1    2             Charco Press\n",
      "2    3          Europa Editions\n",
      "3    4            Faber & Faber\n",
      "4    5    Fitzcarraldo Editions\n",
      "5    6             Granta Books\n",
      "6    7           Harvill Secker\n",
      "7    8             Honford Star\n",
      "8    9            Jonathan Cape\n",
      "9   10  Literatura Random House\n",
      "10  11           Lolli Editions\n",
      "11  12          MacLehose Press\n",
      "12  13                 Oneworld\n",
      "13  14            Peirene Press\n",
      "14  15                  Picador\n",
      "15  16         Portobello Books\n",
      "16  17            Pushkin Press\n",
      "17  18                 Riverrun\n",
      "18  19          Sandstone Press\n",
      "19  20                Scribe UK\n",
      "20  21                 Scribner\n",
      "21  22            Seagull Books\n",
      "22  23           Serpent's Tail\n",
      "23  24          Text Publishing\n",
      "24  25            The New Press\n",
      "25  26        Tilted Axis Press\n",
      "26  27            Transit Books\n",
      "27  28              Tuskar Rock\n",
      "28  29            Verso Fiction\n",
      "29  30                      W&N\n",
      "30  31        William Heinemann\n",
      "31  32           World Editions\n",
      "32  33    Yale University Press\n"
     ]
    }
   ],
   "source": [
    "query_path=\"Queries/\"\n",
    "query=\"longlist.sql\"\n",
    "qpath=query_path+query\n",
    "\n",
    "# load query\n",
    "with open(qpath, \"r\") as file:\n",
    "    query=file.read()\n",
    "    \n",
    "# execute query\n",
    "df = pd.read_sql(query, conn)\n",
    "print(\"\", df)"
   ]
  },
  {
   "cell_type": "code",
   "execution_count": null,
   "metadata": {},
   "outputs": [],
   "source": [
    "# Query 3: Authors from Season 3\n",
    "df_season3 = pd.read_sql(\"SELECT * FROM authors WHERE country = 'Spain' ORDER by birth DESC\", conn)\n",
    "print(\"\\nAuthors from Spain 3:\\n\", df_season3)"
   ]
  }
 ],
 "metadata": {
  "kernelspec": {
   "display_name": "venv",
   "language": "python",
   "name": "python3"
  },
  "language_info": {
   "codemirror_mode": {
    "name": "ipython",
    "version": 3
   },
   "file_extension": ".py",
   "mimetype": "text/x-python",
   "name": "python",
   "nbconvert_exporter": "python",
   "pygments_lexer": "ipython3",
   "version": "3.12.5"
  }
 },
 "nbformat": 4,
 "nbformat_minor": 2
}
