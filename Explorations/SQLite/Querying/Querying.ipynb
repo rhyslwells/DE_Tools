{
 "cells": [
  {
   "cell_type": "code",
   "execution_count": 68,
   "metadata": {},
   "outputs": [],
   "source": [
    "import sqlite3\n",
    "import pandas as pd\n",
    "\n",
    "# Connect to SQLite database\n",
    "database_path=\"../Datasets/database/longlist.db\"\n",
    "conn = sqlite3.connect(database_path)\n",
    "query_path=\"Queries/longlist/\"\n",
    "\n",
    "# Create a cursor object\n",
    "cursor = conn.cursor()"
   ]
  },
  {
   "cell_type": "markdown",
   "metadata": {},
   "source": [
    "# Longlist"
   ]
  },
  {
   "cell_type": "markdown",
   "metadata": {},
   "source": [
    "```mermaid\n",
    "erDiagram\n",
    "  authors {\n",
    "    INTEGER id PK\n",
    "    TEXT name\n",
    "    TEXT country\n",
    "    INTEGER birth\n",
    "  }\n",
    "  authored {\n",
    "    INTEGER author_id\n",
    "    INTEGER book_id\n",
    "  }\n",
    "  authored ||--o{ books : \"book_id → id\"\n",
    "  authored ||--o{ authors : \"author_id → id\"\n",
    "  books {\n",
    "    INTEGER id PK\n",
    "    TEXT isbn\n",
    "    TEXT title\n",
    "    INTEGER publisher_id\n",
    "    TEXT format\n",
    "    INTEGER pages\n",
    "    TEXT published\n",
    "    INTEGER year\n",
    "  }\n",
    "  books ||--o{ publishers : \"publisher_id → id\"\n",
    "  publishers {\n",
    "    INTEGER id PK\n",
    "    TEXT publisher\n",
    "  }\n",
    "  ratings {\n",
    "    INTEGER book_id\n",
    "    INTEGER rating\n",
    "  }\n",
    "  ratings ||--o{ books : \"book_id → id\"\n",
    "  translators {\n",
    "    INTEGER id PK\n",
    "    TEXT name\n",
    "  }\n",
    "  translated {\n",
    "    INTEGER translator_id\n",
    "    INTEGER book_id\n",
    "  }\n",
    "  translated ||--o{ books : \"book_id → id\"\n",
    "  translated ||--o{ translators : \"translator_id → id\"\n",
    "  ```"
   ]
  },
  {
   "cell_type": "code",
   "execution_count": 69,
   "metadata": {},
   "outputs": [],
   "source": [
    "# # Get database info: List all tables\n",
    "# tables_query = \"SELECT name FROM sqlite_master WHERE type='table';\"\n",
    "# tables = pd.read_sql(tables_query, conn)\n",
    "# print(\"Database Tables:\\n\", tables)"
   ]
  },
  {
   "cell_type": "code",
   "execution_count": 70,
   "metadata": {},
   "outputs": [
    {
     "name": "stdout",
     "output_type": "stream",
     "text": [
      "\n",
      "Table Schema for 'episodes':\n",
      "    cid     name     type  notnull dflt_value  pk\n",
      "0    0       id  INTEGER        0       None   1\n",
      "1    1     name     TEXT        0       None   0\n",
      "2    2  country     TEXT        0       None   0\n",
      "3    3    birth  INTEGER        0       None   0\n"
     ]
    }
   ],
   "source": [
    "# Get column info for the 'episodes' table\n",
    "table=\"authors\"\n",
    "columns_query = f\"PRAGMA table_info({table});\"\n",
    "columns = pd.read_sql(columns_query, conn)\n",
    "print(\"\\nTable Schema for 'episodes':\\n\", columns)"
   ]
  },
  {
   "cell_type": "code",
   "execution_count": 71,
   "metadata": {},
   "outputs": [
    {
     "name": "stdout",
     "output_type": "stream",
     "text": [
      "---                    name\n",
      "0         Adania Shibli\n",
      "1         Ahmed Saadawi\n",
      "2   Alia Trabucco Zerán\n",
      "3       Amanda Svensson\n",
      "4         Andrey Kurkov\n",
      "..                  ...\n",
      "67   Virginie Despentes\n",
      "68         Willem Anker\n",
      "69           Wu Ming-Yi\n",
      "70           Yōko Ogawa\n",
      "71          Zou Jingzhi\n",
      "\n",
      "[72 rows x 1 columns]\n"
     ]
    }
   ],
   "source": [
    "### Loading from SQL file\n",
    "# load from a file\n",
    "query=\"load_test.sql\"\n",
    "qpath=query_path+query\n",
    "\n",
    "# load query\n",
    "with open(qpath, \"r\") as file:\n",
    "    query=file.read()\n",
    "# execute query\n",
    "df = pd.read_sql(query, conn)\n",
    "print(\"---\", df)\n",
    "conn.close()"
   ]
  },
  {
   "cell_type": "markdown",
   "metadata": {},
   "source": [
    "### General"
   ]
  },
  {
   "cell_type": "code",
   "execution_count": 72,
   "metadata": {},
   "outputs": [],
   "source": [
    "# Connect to the database\n",
    "conn = sqlite3.connect(database_path)\n",
    "cursor = conn.cursor()"
   ]
  },
  {
   "cell_type": "code",
   "execution_count": 73,
   "metadata": {},
   "outputs": [
    {
     "name": "stdout",
     "output_type": "stream",
     "text": [
      "\n",
      "Publishers:\n",
      "    id              publisher\n",
      "0   1      And Other Stories\n",
      "1   2           Charco Press\n",
      "2   3        Europa Editions\n",
      "3   4          Faber & Faber\n",
      "4   5  Fitzcarraldo Editions\n"
     ]
    }
   ],
   "source": [
    "# Query 1: Select all publishers\n",
    "df_publishers = pd.read_sql(\"SELECT * FROM publishers LIMIT 5\", conn)\n",
    "print(\"\\nPublishers:\\n\", df_publishers)"
   ]
  },
  {
   "cell_type": "code",
   "execution_count": 74,
   "metadata": {},
   "outputs": [
    {
     "name": "stdout",
     "output_type": "stream",
     "text": [
      "\n",
      "MacLehose Press ID:\n",
      "    id\n",
      "0  12\n"
     ]
    }
   ],
   "source": [
    "# Query 2: Find ID of 'MacLehose Press'\n",
    "df_publisher_id = pd.read_sql(\"SELECT id FROM publishers WHERE publisher = 'MacLehose Press'\", conn)\n",
    "print(\"\\nMacLehose Press ID:\\n\", df_publisher_id)"
   ]
  },
  {
   "cell_type": "code",
   "execution_count": 75,
   "metadata": {},
   "outputs": [
    {
     "name": "stdout",
     "output_type": "stream",
     "text": [
      "\n",
      "Books by MacLehose Press:\n",
      "                        title\n",
      "0             Standing Heavy\n",
      "1  Jimi Hendrix Live in Lviv\n",
      "2     An Inventory of Losses\n",
      "3      The Faculty of Dreams\n",
      "4     The Shape of the Ruins\n",
      "5               The Impostor\n",
      "6           Vernon Subutex 1\n"
     ]
    }
   ],
   "source": [
    "# Query 3: Find books published by MacLehose Press\n",
    "df_books = pd.read_sql(\"SELECT title FROM books WHERE publisher_id = 12\", conn)\n",
    "print(\"\\nBooks by MacLehose Press:\\n\", df_books)"
   ]
  },
  {
   "cell_type": "code",
   "execution_count": 76,
   "metadata": {},
   "outputs": [
    {
     "name": "stdout",
     "output_type": "stream",
     "text": [
      "\n",
      "Books by MacLehose Press (Nested Query):\n",
      "                        title\n",
      "0             Standing Heavy\n",
      "1  Jimi Hendrix Live in Lviv\n",
      "2     An Inventory of Losses\n",
      "3      The Faculty of Dreams\n",
      "4     The Shape of the Ruins\n",
      "5               The Impostor\n",
      "6           Vernon Subutex 1\n"
     ]
    }
   ],
   "source": [
    "# Query 4: Find books by nested query\n",
    "df_books_nested = pd.read_sql(\"\"\"\n",
    "    SELECT title FROM books WHERE publisher_id = (\n",
    "        SELECT id FROM publishers WHERE publisher = 'MacLehose Press'\n",
    "    )\"\"\", conn)\n",
    "print(\"\\nBooks by MacLehose Press (Nested Query):\\n\", df_books_nested)\n"
   ]
  },
  {
   "cell_type": "code",
   "execution_count": 77,
   "metadata": {},
   "outputs": [
    {
     "name": "stdout",
     "output_type": "stream",
     "text": [
      "\n",
      "Ratings for 'In Memory of Memory':\n",
      "       rating\n",
      "0          3\n",
      "1          4\n",
      "2          4\n",
      "3          4\n",
      "4          3\n",
      "...      ...\n",
      "1549       4\n",
      "1550       4\n",
      "1551       4\n",
      "1552       4\n",
      "1553       4\n",
      "\n",
      "[1554 rows x 1 columns]\n"
     ]
    }
   ],
   "source": [
    "\n",
    "# Query 5: Find ratings for 'In Memory of Memory'\n",
    "df_ratings = pd.read_sql(\"\"\"\n",
    "    SELECT rating FROM ratings WHERE book_id = (\n",
    "        SELECT id FROM books WHERE title = 'In Memory of Memory'\n",
    "    )\"\"\", conn)\n",
    "print(\"\\nRatings for 'In Memory of Memory':\\n\", df_ratings)\n"
   ]
  },
  {
   "cell_type": "code",
   "execution_count": 78,
   "metadata": {},
   "outputs": [
    {
     "name": "stdout",
     "output_type": "stream",
     "text": [
      "\n",
      "Average Rating for 'In Memory of Memory':\n",
      "    AVG(rating)\n",
      "0      3.86036\n"
     ]
    }
   ],
   "source": [
    "\n",
    "# Query 6: Find the average rating for 'In Memory of Memory'\n",
    "df_avg_rating = pd.read_sql(\"\"\"\n",
    "    SELECT AVG(rating) FROM ratings WHERE book_id = (\n",
    "        SELECT id FROM books WHERE title = 'In Memory of Memory'\n",
    "    )\"\"\", conn)\n",
    "print(\"\\nAverage Rating for 'In Memory of Memory':\\n\", df_avg_rating)\n"
   ]
  },
  {
   "cell_type": "code",
   "execution_count": 79,
   "metadata": {},
   "outputs": [
    {
     "name": "stdout",
     "output_type": "stream",
     "text": [
      "\n",
      "Author of 'Flights':\n",
      "              name\n",
      "0  Olga Tokarczuk\n"
     ]
    }
   ],
   "source": [
    "\n",
    "# Query 7: Find author of 'Flights'\n",
    "df_author = pd.read_sql(\"\"\"\n",
    "    SELECT name FROM authors WHERE id = (\n",
    "        SELECT author_id FROM authored WHERE book_id = (\n",
    "            SELECT id FROM books WHERE title = 'Flights'\n",
    "        )\n",
    "    )\"\"\", conn)\n",
    "print(\"\\nAuthor of 'Flights':\\n\", df_author)\n"
   ]
  },
  {
   "cell_type": "code",
   "execution_count": 80,
   "metadata": {},
   "outputs": [
    {
     "name": "stdout",
     "output_type": "stream",
     "text": [
      "\n",
      "Books by Fernanda Melchor:\n",
      "               title\n",
      "0          Paradais\n",
      "1  Hurricane Season\n"
     ]
    }
   ],
   "source": [
    "\n",
    "# Query 8: Find books by 'Fernanda Melchor'\n",
    "df_books_melchor = pd.read_sql(\"\"\"\n",
    "    SELECT title FROM books WHERE id IN (\n",
    "        SELECT book_id FROM authored WHERE author_id = (\n",
    "            SELECT id FROM authors WHERE name = 'Fernanda Melchor'\n",
    "        )\n",
    "    )\"\"\", conn)\n",
    "print(\"\\nBooks by Fernanda Melchor:\\n\", df_books_melchor)\n"
   ]
  },
  {
   "cell_type": "code",
   "execution_count": 81,
   "metadata": {},
   "outputs": [
    {
     "name": "stdout",
     "output_type": "stream",
     "text": [
      "\n",
      "Books with 'love' in title:\n",
      "                         title\n",
      "0        Love in the Big City\n",
      "1    More Than I Love My Life\n",
      "2  Love in the New Millennium\n",
      "3                Die, My Love\n"
     ]
    }
   ],
   "source": [
    "\n",
    "# Query 9: Find books with 'love' in the title\n",
    "df_love_books = pd.read_sql(\"SELECT title FROM books WHERE title LIKE '%love%'\", conn)\n",
    "print(\"\\nBooks with 'love' in title:\\n\", df_love_books)\n"
   ]
  },
  {
   "cell_type": "code",
   "execution_count": 82,
   "metadata": {},
   "outputs": [
    {
     "name": "stdout",
     "output_type": "stream",
     "text": [
      "\n",
      "Books starting with 'The':\n",
      "                                       title\n",
      "0     The Gospel According to the New World\n",
      "1                        The Birthday Party\n",
      "2                        The Book of Mother\n",
      "3                        The Books of Jacob\n",
      "4                       The War of the Poor\n",
      "5             The Dangers of Smoking in Bed\n",
      "6                             The Employees\n",
      "7                            The Pear Field\n",
      "8                          The Perfect Nine\n",
      "9              The Adventures of China Iron\n",
      "10                The Discomfort of Evening\n",
      "11                          The Eighth Life\n",
      "12  The Enlightenment of The Greengage Tree\n",
      "13                        The Memory Police\n",
      "14           The Other Name: Septology I-II\n",
      "15               The Death of Murat Idrissi\n",
      "16                    The Faculty of Dreams\n",
      "17                         The Pine Islands\n",
      "18                            The Remainder\n",
      "19                   The Shape of the Ruins\n",
      "20                                The Years\n",
      "21             The 7th Function of Language\n",
      "22                         The Dinner Guest\n",
      "23                      The Flying Mountain\n",
      "24                             The Impostor\n",
      "25                       The Stolen Bicycle\n",
      "26                           The White Book\n",
      "27                        The World Goes On\n"
     ]
    }
   ],
   "source": [
    "\n",
    "# Query 10: Find books starting with 'The'\n",
    "df_the_books = pd.read_sql(\"SELECT title FROM books WHERE title LIKE 'The %'\", conn)\n",
    "print(\"\\nBooks starting with 'The':\\n\", df_the_books)\n"
   ]
  },
  {
   "cell_type": "code",
   "execution_count": 83,
   "metadata": {},
   "outputs": [
    {
     "name": "stdout",
     "output_type": "stream",
     "text": [
      "\n",
      "Books matching uncertain spelling:\n",
      "   title\n",
      "0  Pyre\n"
     ]
    }
   ],
   "source": [
    "\n",
    "# Query 11: Find books matching uncertain title spelling\n",
    "df_uncertain_book = pd.read_sql(\"SELECT title FROM books WHERE title LIKE 'P_re'\", conn)\n",
    "print(\"\\nBooks matching uncertain spelling:\\n\", df_uncertain_book)\n"
   ]
  },
  {
   "cell_type": "code",
   "execution_count": 84,
   "metadata": {},
   "outputs": [
    {
     "name": "stdout",
     "output_type": "stream",
     "text": [
      "\n",
      "Average rating of all books:\n",
      "    Average Rating\n",
      "0            3.84\n"
     ]
    }
   ],
   "source": [
    "\n",
    "# Query 12: Find average rating of all books\n",
    "df_avg_all = pd.read_sql(\"SELECT ROUND(AVG(rating), 2) AS 'Average Rating' FROM ratings\", conn)\n",
    "print(\"\\nAverage rating of all books:\\n\", df_avg_all)\n"
   ]
  },
  {
   "cell_type": "code",
   "execution_count": 85,
   "metadata": {},
   "outputs": [
    {
     "name": "stdout",
     "output_type": "stream",
     "text": [
      "\n",
      "Maximum rating:\n",
      "    MAX(rating)\n",
      "0            5\n",
      "\n",
      "Minimum rating:\n",
      "    MIN(rating)\n",
      "0            1\n"
     ]
    }
   ],
   "source": [
    "\n",
    "# Query 13: Find maximum and minimum rating\n",
    "df_max_rating = pd.read_sql(\"SELECT MAX(rating) FROM ratings\", conn)\n",
    "df_min_rating = pd.read_sql(\"SELECT MIN(rating) FROM ratings\", conn)\n",
    "print(\"\\nMaximum rating:\\n\", df_max_rating)\n",
    "print(\"\\nMinimum rating:\\n\", df_min_rating)\n"
   ]
  },
  {
   "cell_type": "code",
   "execution_count": 86,
   "metadata": {},
   "outputs": [
    {
     "name": "stdout",
     "output_type": "stream",
     "text": [
      "\n",
      "Total number of pages:\n",
      "    SUM(pages)\n",
      "0       22345\n"
     ]
    }
   ],
   "source": [
    "\n",
    "# Query 14: Count total votes (pages)\n",
    "df_total_pages = pd.read_sql(\"SELECT SUM(pages) FROM books\", conn)\n",
    "print(\"\\nTotal number of pages:\\n\", df_total_pages)\n"
   ]
  },
  {
   "cell_type": "code",
   "execution_count": 87,
   "metadata": {},
   "outputs": [
    {
     "name": "stdout",
     "output_type": "stream",
     "text": [
      "\n",
      "Total number of books:\n",
      "    COUNT(*)\n",
      "0        78\n",
      "\n",
      "Total number of translators:\n",
      "    COUNT(name)\n",
      "0           74\n"
     ]
    }
   ],
   "source": [
    "\n",
    "# Query 15: Count total books and translators\n",
    "df_total_books = pd.read_sql(\"SELECT COUNT(*) FROM books\", conn)\n",
    "df_total_translators = pd.read_sql(\"SELECT COUNT(name) FROM translators\", conn)\n",
    "print(\"\\nTotal number of books:\\n\", df_total_books)\n",
    "print(\"\\nTotal number of translators:\\n\", df_total_translators)\n"
   ]
  },
  {
   "cell_type": "code",
   "execution_count": 88,
   "metadata": {},
   "outputs": [
    {
     "name": "stdout",
     "output_type": "stream",
     "text": [
      "\n",
      "Total unique publishers:\n",
      "    COUNT(DISTINCT publisher)\n",
      "0                         33\n"
     ]
    }
   ],
   "source": [
    "\n",
    "# Query 16: Count unique publishers\n",
    "df_unique_publishers = pd.read_sql(\"SELECT COUNT(DISTINCT publisher) FROM publishers\", conn)\n",
    "print(\"\\nTotal unique publishers:\\n\", df_unique_publishers)\n"
   ]
  },
  {
   "cell_type": "code",
   "execution_count": 89,
   "metadata": {},
   "outputs": [],
   "source": [
    "\n",
    "# Close connection\n",
    "conn.close()\n"
   ]
  },
  {
   "cell_type": "markdown",
   "metadata": {},
   "source": [
    "### Sets"
   ]
  },
  {
   "cell_type": "code",
   "execution_count": 91,
   "metadata": {},
   "outputs": [
    {
     "name": "stdout",
     "output_type": "stream",
     "text": [
      "\n",
      "Authors and Translators:\n",
      "      profession                 name\n",
      "0        author        Adania Shibli\n",
      "1        author        Ahmed Saadawi\n",
      "2        author  Alia Trabucco Zerán\n",
      "3        author      Amanda Svensson\n",
      "4        author        Andrey Kurkov\n",
      "..          ...                  ...\n",
      "141  translator         Sophie Lewis\n",
      "142  translator     Sora Kim-Russell\n",
      "143  translator       Stephen Snyder\n",
      "144  translator      Susan Bernofsky\n",
      "145  translator         Tiffany Tsao\n",
      "\n",
      "[146 rows x 2 columns]\n"
     ]
    }
   ],
   "source": [
    "# Connect to the database\n",
    "conn = sqlite3.connect(database_path)\n",
    "cursor = conn.cursor()\n",
    "\n",
    "# Query 1: UNION - Combines authors and translators into one result set\n",
    "df_union = pd.read_sql(\"\"\"\n",
    "    SELECT 'author' AS profession, name FROM authors\n",
    "    UNION\n",
    "    SELECT 'translator' AS profession, name FROM translators;\n",
    "\"\"\", conn)\n",
    "print(\"\\nAuthors and Translators:\\n\", df_union)\n"
   ]
  },
  {
   "cell_type": "code",
   "execution_count": 92,
   "metadata": {},
   "outputs": [
    {
     "name": "stdout",
     "output_type": "stream",
     "text": [
      "\n",
      "Authors who are also Translators:\n",
      "                 name\n",
      "0  Ngũgĩ wa Thiong'o\n"
     ]
    }
   ],
   "source": [
    "\n",
    "# Query 2: INTERSECT - Finds authors who are also translators\n",
    "df_intersect = pd.read_sql(\"\"\"\n",
    "    SELECT name FROM authors\n",
    "    INTERSECT\n",
    "    SELECT name FROM translators;\n",
    "\"\"\", conn)\n",
    "print(\"\\nAuthors who are also Translators:\\n\", df_intersect)\n"
   ]
  },
  {
   "cell_type": "code",
   "execution_count": 93,
   "metadata": {},
   "outputs": [
    {
     "name": "stdout",
     "output_type": "stream",
     "text": [
      "\n",
      "Books translated by Sophie Hughes:\n",
      "    book_id\n",
      "0       14\n",
      "1       48\n",
      "2       50\n",
      "3       63\n"
     ]
    }
   ],
   "source": [
    "\n",
    "# Query 3: Finds books translated by Sophie Hughes\n",
    "df_sophie_books = pd.read_sql(\"\"\"\n",
    "    SELECT book_id FROM translated WHERE translator_id = (\n",
    "        SELECT id FROM translators WHERE name = 'Sophie Hughes'\n",
    "    );\n",
    "\"\"\", conn)\n",
    "print(\"\\nBooks translated by Sophie Hughes:\\n\", df_sophie_books)\n"
   ]
  },
  {
   "cell_type": "code",
   "execution_count": 94,
   "metadata": {},
   "outputs": [
    {
     "name": "stdout",
     "output_type": "stream",
     "text": [
      "\n",
      "Books translated by Margaret Jull Costa:\n",
      "    book_id\n",
      "0       50\n"
     ]
    }
   ],
   "source": [
    "\n",
    "# Query 4: Finds books translated by Margaret Jull Costa\n",
    "df_margaret_books = pd.read_sql(\"\"\"\n",
    "    SELECT book_id FROM translated WHERE translator_id = (\n",
    "        SELECT id FROM translators WHERE name = 'Margaret Jull Costa'\n",
    "    );\n",
    "\"\"\", conn)\n",
    "print(\"\\nBooks translated by Margaret Jull Costa:\\n\", df_margaret_books)\n"
   ]
  },
  {
   "cell_type": "code",
   "execution_count": 95,
   "metadata": {},
   "outputs": [
    {
     "name": "stdout",
     "output_type": "stream",
     "text": [
      "\n",
      "Books translated by both Sophie Hughes and Margaret Jull Costa:\n",
      "    book_id\n",
      "0       50\n"
     ]
    }
   ],
   "source": [
    "\n",
    "# Query 5: INTERSECT - Finds books translated by both Sophie Hughes and Margaret Jull Costa\n",
    "df_common_books = pd.read_sql(\"\"\"\n",
    "    SELECT book_id FROM translated WHERE translator_id = (\n",
    "        SELECT id FROM translators WHERE name = 'Sophie Hughes'\n",
    "    )\n",
    "    INTERSECT\n",
    "    SELECT book_id FROM translated WHERE translator_id = (\n",
    "        SELECT id FROM translators WHERE name = 'Margaret Jull Costa'\n",
    "    );\n",
    "\"\"\", conn)\n",
    "print(\"\\nBooks translated by both Sophie Hughes and Margaret Jull Costa:\\n\", df_common_books)\n"
   ]
  },
  {
   "cell_type": "code",
   "execution_count": 96,
   "metadata": {},
   "outputs": [
    {
     "name": "stdout",
     "output_type": "stream",
     "text": [
      "\n",
      "Titles of books translated by both Sophie Hughes and Margaret Jull Costa:\n",
      "                  title\n",
      "0  Mac and His Problem\n"
     ]
    }
   ],
   "source": [
    "\n",
    "# Query 6: Retrieves the titles of books translated by both translators\n",
    "df_common_titles = pd.read_sql(\"\"\"\n",
    "    SELECT title FROM books WHERE id IN (\n",
    "        SELECT book_id FROM translated WHERE translator_id = (\n",
    "            SELECT id FROM translators WHERE name = 'Sophie Hughes'\n",
    "        )\n",
    "        INTERSECT\n",
    "        SELECT book_id FROM translated WHERE translator_id = (\n",
    "            SELECT id FROM translators WHERE name = 'Margaret Jull Costa'\n",
    "        )\n",
    "    );\n",
    "\"\"\", conn)\n",
    "print(\"\\nTitles of books translated by both Sophie Hughes and Margaret Jull Costa:\\n\", df_common_titles)\n"
   ]
  },
  {
   "cell_type": "code",
   "execution_count": 97,
   "metadata": {},
   "outputs": [
    {
     "name": "stdout",
     "output_type": "stream",
     "text": [
      "\n",
      "Translators who are not Authors:\n",
      "                     name\n",
      "0     Adrian Nathan West\n",
      "1      Alison L. Strayer\n",
      "2           Angela Rodel\n",
      "3   Aniruddhan Vasudevan\n",
      "4       Anna Moschovakis\n",
      "..                   ...\n",
      "68          Sophie Lewis\n",
      "69      Sora Kim-Russell\n",
      "70        Stephen Snyder\n",
      "71       Susan Bernofsky\n",
      "72          Tiffany Tsao\n",
      "\n",
      "[73 rows x 1 columns]\n"
     ]
    }
   ],
   "source": [
    "\n",
    "# Query 7: EXCEPT - Finds translators who are not authors\n",
    "df_translators_not_authors = pd.read_sql(\"\"\"\n",
    "    SELECT name FROM translators\n",
    "    EXCEPT\n",
    "    SELECT name FROM authors;\n",
    "\"\"\", conn)\n",
    "print(\"\\nTranslators who are not Authors:\\n\", df_translators_not_authors)\n"
   ]
  },
  {
   "cell_type": "code",
   "execution_count": 98,
   "metadata": {},
   "outputs": [],
   "source": [
    "\n",
    "# Close the connection\n",
    "conn.close()\n"
   ]
  },
  {
   "cell_type": "markdown",
   "metadata": {},
   "source": [
    "### Groups"
   ]
  },
  {
   "cell_type": "code",
   "execution_count": 99,
   "metadata": {},
   "outputs": [
    {
     "name": "stdout",
     "output_type": "stream",
     "text": [
      "\n",
      "Average rating for each book:\n",
      "     book_id  average rating\n",
      "0         1            3.77\n",
      "1         2            3.97\n",
      "2         3            3.04\n",
      "3         4            3.57\n",
      "4         5            4.06\n",
      "..      ...             ...\n",
      "73       74            3.83\n",
      "74       75            3.77\n",
      "75       76            3.89\n",
      "76       77            3.54\n",
      "77       78            3.76\n",
      "\n",
      "[78 rows x 2 columns]\n"
     ]
    }
   ],
   "source": [
    "# Connect to the database\n",
    "conn = sqlite3.connect(database_path)\n",
    "cursor = conn.cursor()\n",
    "\n",
    "# Query 1: Finds average rating for each book\n",
    "df_avg_ratings = pd.read_sql(\"\"\"\n",
    "    SELECT book_id, ROUND(AVG(rating), 2) AS \"average rating\" FROM ratings\n",
    "    GROUP BY book_id;\n",
    "\"\"\", conn)\n",
    "print(\"\\nAverage rating for each book:\\n\", df_avg_ratings)\n"
   ]
  },
  {
   "cell_type": "code",
   "execution_count": 100,
   "metadata": {},
   "outputs": [
    {
     "name": "stdout",
     "output_type": "stream",
     "text": [
      "\n",
      "Average rating per book title:\n",
      "                                     title  average rating\n",
      "0                                 Boulder            3.77\n",
      "1                                   Whale            3.97\n",
      "2   The Gospel According to the New World            3.04\n",
      "3                          Standing Heavy            3.57\n",
      "4                            Time Shelter            4.06\n",
      "..                                    ...             ...\n",
      "73                         The White Book            3.83\n",
      "74                      The World Goes On            3.77\n",
      "75                       Vernon Subutex 1            3.89\n",
      "76                           Die, My Love            3.54\n",
      "77                                Flights            3.76\n",
      "\n",
      "[78 rows x 2 columns]\n"
     ]
    }
   ],
   "source": [
    "\n",
    "# Query 2: Joins titles with average ratings\n",
    "df_avg_ratings_with_titles = pd.read_sql(\"\"\"\n",
    "    SELECT title, ROUND(AVG(rating), 2) AS \"average rating\" FROM ratings\n",
    "    JOIN books ON books.id = ratings.book_id\n",
    "    GROUP BY book_id;\n",
    "\"\"\", conn)\n",
    "print(\"\\nAverage rating per book title:\\n\", df_avg_ratings_with_titles)\n"
   ]
  },
  {
   "cell_type": "code",
   "execution_count": 101,
   "metadata": {},
   "outputs": [
    {
     "name": "stdout",
     "output_type": "stream",
     "text": [
      "\n",
      "Books with an average rating above 4.0:\n",
      "                                     title  average rating\n",
      "0                            Time Shelter            4.06\n",
      "1                                    Pyre            4.04\n",
      "2                              Still Born            4.14\n",
      "3                             Elena Knows            4.09\n",
      "4                More Than I Love My Life            4.04\n",
      "5            A New Name: Septology VI-VII            4.50\n",
      "6                      The Books of Jacob            4.05\n",
      "7   When We Cease to Understand the World            4.14\n",
      "8                         The Eighth Life            4.51\n",
      "9          The Other Name: Septology I-II            4.19\n",
      "10                       Hurricane Season            4.08\n",
      "11                              The Years            4.18\n",
      "12                    The Flying Mountain            4.11\n"
     ]
    }
   ],
   "source": [
    "\n",
    "# Query 3: Chooses books with a rating of 4.0 or higher\n",
    "df_high_rated_books = pd.read_sql(\"\"\"\n",
    "    SELECT title, ROUND(AVG(rating), 2) AS \"average rating\" FROM ratings\n",
    "    JOIN books ON books.id = ratings.book_id\n",
    "    GROUP BY book_id\n",
    "    HAVING \"average rating\" > 4.0;\n",
    "\"\"\", conn)\n",
    "print(\"\\nBooks with an average rating above 4.0:\\n\", df_high_rated_books)\n"
   ]
  },
  {
   "cell_type": "code",
   "execution_count": 102,
   "metadata": {},
   "outputs": [
    {
     "name": "stdout",
     "output_type": "stream",
     "text": [
      "\n",
      "Books with an average rating above 4.0, ordered by rating:\n",
      "     book_id  average rating\n",
      "0        42            4.51\n",
      "1        22            4.50\n",
      "2        45            4.19\n",
      "3        65            4.18\n",
      "4        28            4.14\n",
      "5        11            4.14\n",
      "6        71            4.11\n",
      "7        18            4.09\n",
      "8        48            4.08\n",
      "9         5            4.06\n",
      "10       25            4.05\n",
      "11       20            4.04\n",
      "12       10            4.04\n"
     ]
    }
   ],
   "source": [
    "\n",
    "# Query 4: Chooses books with a rating of 4.0 or higher, ordered by rating\n",
    "df_high_rated_books_ordered = pd.read_sql(\"\"\"\n",
    "    SELECT book_id, ROUND(AVG(rating), 2) AS \"average rating\" FROM ratings\n",
    "    GROUP BY book_id\n",
    "    HAVING \"average rating\" > 4.0\n",
    "    ORDER BY \"average rating\" DESC;\n",
    "\"\"\", conn)\n",
    "print(\"\\nBooks with an average rating above 4.0, ordered by rating:\\n\", df_high_rated_books_ordered)\n"
   ]
  },
  {
   "cell_type": "code",
   "execution_count": 103,
   "metadata": {},
   "outputs": [],
   "source": [
    "\n",
    "# Close the connection\n",
    "conn.close()"
   ]
  },
  {
   "cell_type": "markdown",
   "metadata": {},
   "source": [
    "### Nested"
   ]
  },
  {
   "cell_type": "code",
   "execution_count": 104,
   "metadata": {},
   "outputs": [
    {
     "name": "stdout",
     "output_type": "stream",
     "text": [
      "\n",
      "Books published by MacLehose Press:\n",
      "                        title\n",
      "0             Standing Heavy\n",
      "1  Jimi Hendrix Live in Lviv\n",
      "2     An Inventory of Losses\n",
      "3      The Faculty of Dreams\n",
      "4     The Shape of the Ruins\n",
      "5               The Impostor\n",
      "6           Vernon Subutex 1\n"
     ]
    }
   ],
   "source": [
    "# Connect to the database\n",
    "conn = sqlite3.connect(database_path)\n",
    "cursor = conn.cursor()\n",
    "\n",
    "# Query 1: Finds all books published by MacLehose Press\n",
    "df_maclehose_books = pd.read_sql(\"\"\"\n",
    "    SELECT title FROM books WHERE publisher_id = (\n",
    "        SELECT id FROM publishers WHERE publisher = 'MacLehose Press'\n",
    "    );\n",
    "\"\"\", conn)\n",
    "print(\"\\nBooks published by MacLehose Press:\\n\", df_maclehose_books)\n"
   ]
  },
  {
   "cell_type": "code",
   "execution_count": 105,
   "metadata": {},
   "outputs": [
    {
     "name": "stdout",
     "output_type": "stream",
     "text": [
      "\n",
      "Ratings for 'In Memory of Memory':\n",
      "       rating\n",
      "0          3\n",
      "1          4\n",
      "2          4\n",
      "3          4\n",
      "4          3\n",
      "...      ...\n",
      "1549       4\n",
      "1550       4\n",
      "1551       4\n",
      "1552       4\n",
      "1553       4\n",
      "\n",
      "[1554 rows x 1 columns]\n"
     ]
    }
   ],
   "source": [
    "\n",
    "# Query 2: Finds all ratings for \"In Memory of Memory\"\n",
    "df_memory_ratings = pd.read_sql(\"\"\"\n",
    "    SELECT rating FROM ratings WHERE book_id = (\n",
    "        SELECT id FROM books WHERE title = 'In Memory of Memory'\n",
    "    );\n",
    "\"\"\", conn)\n",
    "print(\"\\nRatings for 'In Memory of Memory':\\n\", df_memory_ratings)\n"
   ]
  },
  {
   "cell_type": "code",
   "execution_count": 106,
   "metadata": {},
   "outputs": [
    {
     "name": "stdout",
     "output_type": "stream",
     "text": [
      "\n",
      "Average rating for 'In Memory of Memory':\n",
      "    AVG(rating)\n",
      "0      3.86036\n"
     ]
    }
   ],
   "source": [
    "\n",
    "# Query 3: Finds average rating for \"In Memory of Memory\"\n",
    "df_memory_avg_rating = pd.read_sql(\"\"\"\n",
    "    SELECT AVG(rating) FROM ratings WHERE book_id = (\n",
    "        SELECT id FROM books WHERE title = 'In Memory of Memory'\n",
    "    );\n",
    "\"\"\", conn)\n",
    "print(\"\\nAverage rating for 'In Memory of Memory':\\n\", df_memory_avg_rating)\n"
   ]
  },
  {
   "cell_type": "code",
   "execution_count": 107,
   "metadata": {},
   "outputs": [
    {
     "name": "stdout",
     "output_type": "stream",
     "text": [
      "\n",
      "Author of 'The Birthday Party':\n",
      "                  name\n",
      "0  Laurent Mauvignier\n"
     ]
    }
   ],
   "source": [
    "\n",
    "# Query 4: Finds author who wrote \"The Birthday Party\"\n",
    "df_birthday_author = pd.read_sql(\"\"\"\n",
    "    SELECT name FROM authors WHERE id = (\n",
    "        SELECT author_id FROM authored WHERE book_id = (\n",
    "            SELECT id FROM books WHERE title = 'The Birthday Party'\n",
    "        )\n",
    "    );\n",
    "\"\"\", conn)\n",
    "print(\"\\nAuthor of 'The Birthday Party':\\n\", df_birthday_author)\n"
   ]
  },
  {
   "cell_type": "code",
   "execution_count": 108,
   "metadata": {},
   "outputs": [
    {
     "name": "stdout",
     "output_type": "stream",
     "text": [
      "\n",
      "Books by Fernanda Melchor:\n",
      "               title\n",
      "0          Paradais\n",
      "1  Hurricane Season\n"
     ]
    }
   ],
   "source": [
    "\n",
    "# Query 5: Finds all books by Fernanda Melchor\n",
    "df_melchor_books = pd.read_sql(\"\"\"\n",
    "    SELECT title FROM books WHERE id IN (\n",
    "        SELECT book_id FROM authored WHERE author_id = (\n",
    "            SELECT id FROM authors WHERE name = 'Fernanda Melchor'\n",
    "        )\n",
    "    );\n",
    "\"\"\", conn)\n",
    "print(\"\\nBooks by Fernanda Melchor:\\n\", df_melchor_books)\n"
   ]
  },
  {
   "cell_type": "code",
   "execution_count": 109,
   "metadata": {},
   "outputs": [
    {
     "name": "stdout",
     "output_type": "stream",
     "text": [
      "\n",
      "Books by Fernanda Melchor or Annie Ernaux:\n",
      "               title\n",
      "0          Paradais\n",
      "1  Hurricane Season\n",
      "2         The Years\n"
     ]
    }
   ],
   "source": [
    "\n",
    "# Query 6: Finds books by multiple authors (Fernanda Melchor, Annie Ernaux)\n",
    "df_multiple_authors_books = pd.read_sql(\"\"\"\n",
    "    SELECT title FROM books WHERE id IN (\n",
    "        SELECT book_id FROM authored WHERE author_id IN (\n",
    "            SELECT id FROM authors WHERE name IN ('Fernanda Melchor', 'Annie Ernaux')\n",
    "        )\n",
    "    );\n",
    "\"\"\", conn)\n",
    "print(\"\\nBooks by Fernanda Melchor or Annie Ernaux:\\n\", df_multiple_authors_books)\n"
   ]
  },
  {
   "cell_type": "code",
   "execution_count": 110,
   "metadata": {},
   "outputs": [],
   "source": [
    "\n",
    "# Close the connection\n",
    "conn.close()\n"
   ]
  },
  {
   "cell_type": "markdown",
   "metadata": {},
   "source": [
    "# Sea Lions"
   ]
  },
  {
   "cell_type": "markdown",
   "metadata": {},
   "source": [
    "```mermaid\n",
    "erDiagram\n",
    "  sea_lions {\n",
    "    INTEGER id PK\n",
    "    TEXT name\n",
    "    TEXT species\n",
    "  }\n",
    "  migrations {\n",
    "    INTEGER id PK\n",
    "    INTEGER distance\n",
    "    INTEGER days\n",
    "  }\n",
    "```"
   ]
  },
  {
   "cell_type": "code",
   "execution_count": 50,
   "metadata": {},
   "outputs": [
    {
     "name": "stdout",
     "output_type": "stream",
     "text": [
      "\n",
      "Joined sea_lions and migrations:\n",
      "       id   name                 species     id  distance  days\n",
      "0  10484   Ayah  Zalophus californianus  10484      1000   107\n",
      "1  11728   Spot  Zalophus californianus  11728      1531    56\n",
      "2  11729  Tiger  Zalophus californianus  11729      1370    37\n",
      "3  11732  Mabel  Zalophus californianus  11732      1622    62\n",
      "4  11734   Rick  Zalophus californianus  11734      1491    58\n"
     ]
    }
   ],
   "source": [
    "# Connect to the database\n",
    "database_path=\"../Datasets/database/sea_lions.db\"\n",
    "conn = sqlite3.connect(database_path)\n",
    "\n",
    "# Query 1: Join two tables using primary keys\n",
    "df_join = pd.read_sql(\"SELECT * FROM sea_lions JOIN migrations ON migrations.id = sea_lions.id\", conn)\n",
    "print(\"\\nJoined sea_lions and migrations:\\n\", df_join)"
   ]
  },
  {
   "cell_type": "code",
   "execution_count": 51,
   "metadata": {},
   "outputs": [
    {
     "name": "stdout",
     "output_type": "stream",
     "text": [
      "\n",
      "Left Join Result:\n",
      "       id   name                 species       id  distance   days\n",
      "0  10484   Ayah  Zalophus californianus  10484.0    1000.0  107.0\n",
      "1  11728   Spot  Zalophus californianus  11728.0    1531.0   56.0\n",
      "2  11729  Tiger  Zalophus californianus  11729.0    1370.0   37.0\n",
      "3  11732  Mabel  Zalophus californianus  11732.0    1622.0   62.0\n",
      "4  11734   Rick  Zalophus californianus  11734.0    1491.0   58.0\n",
      "5  11790  Jolee  Zalophus californianus      NaN       NaN    NaN\n"
     ]
    }
   ],
   "source": [
    "# Query 2: Left join\n",
    "df_left_join = pd.read_sql(\"SELECT * FROM sea_lions LEFT JOIN migrations ON migrations.id = sea_lions.id\", conn)\n",
    "print(\"\\nLeft Join Result:\\n\", df_left_join)\n"
   ]
  },
  {
   "cell_type": "code",
   "execution_count": 52,
   "metadata": {},
   "outputs": [
    {
     "name": "stdout",
     "output_type": "stream",
     "text": [
      "\n",
      "Right Join Result:\n",
      "       id  distance  days       id   name                 species\n",
      "0  10484      1000   107  10484.0   Ayah  Zalophus californianus\n",
      "1  11728      1531    56  11728.0   Spot  Zalophus californianus\n",
      "2  11729      1370    37  11729.0  Tiger  Zalophus californianus\n",
      "3  11732      1622    62  11732.0  Mabel  Zalophus californianus\n",
      "4  11734      1491    58  11734.0   Rick  Zalophus californianus\n",
      "5  11735      2723    82      NaN   None                    None\n",
      "6  11736      1571    52      NaN   None                    None\n",
      "7  11737      1957    92      NaN   None                    None\n"
     ]
    }
   ],
   "source": [
    "# Query 3: Right join (SQLite does not support RIGHT JOIN directly)\n",
    "df_right_join = pd.read_sql(\"SELECT * FROM migrations LEFT JOIN sea_lions ON sea_lions.id = migrations.id\", conn)\n",
    "print(\"\\nRight Join Result:\\n\", df_right_join)"
   ]
  },
  {
   "cell_type": "code",
   "execution_count": 53,
   "metadata": {},
   "outputs": [
    {
     "name": "stdout",
     "output_type": "stream",
     "text": [
      "\n",
      "Full Join Result:\n",
      "         id   name                 species       id  distance   days\n",
      "0      NaN   None                    None  11735.0    2723.0   82.0\n",
      "1      NaN   None                    None  11736.0    1571.0   52.0\n",
      "2      NaN   None                    None  11737.0    1957.0   92.0\n",
      "3  10484.0   Ayah  Zalophus californianus  10484.0    1000.0  107.0\n",
      "4  11728.0   Spot  Zalophus californianus  11728.0    1531.0   56.0\n",
      "5  11729.0  Tiger  Zalophus californianus  11729.0    1370.0   37.0\n",
      "6  11732.0  Mabel  Zalophus californianus  11732.0    1622.0   62.0\n",
      "7  11734.0   Rick  Zalophus californianus  11734.0    1491.0   58.0\n",
      "8  11790.0  Jolee  Zalophus californianus      NaN       NaN    NaN\n"
     ]
    }
   ],
   "source": [
    "# Query 4: Full join (Simulated using UNION in SQLite)\n",
    "df_full_join = pd.read_sql(\"\"\"\n",
    "SELECT * FROM sea_lions LEFT JOIN migrations ON migrations.id = sea_lions.id\n",
    "UNION\n",
    "SELECT * FROM sea_lions RIGHT JOIN migrations ON migrations.id = sea_lions.id\n",
    "\"\"\", conn)\n",
    "print(\"\\nFull Join Result:\\n\", df_full_join)"
   ]
  },
  {
   "cell_type": "code",
   "execution_count": 54,
   "metadata": {},
   "outputs": [],
   "source": [
    "# df=pd.read_sql(\"SELECT * FROM sea_lions\", conn)"
   ]
  },
  {
   "cell_type": "code",
   "execution_count": 55,
   "metadata": {},
   "outputs": [
    {
     "name": "stdout",
     "output_type": "stream",
     "text": [
      "\n",
      "Natural Join Result:\n",
      "       id   name                 species  distance  days\n",
      "0  10484   Ayah  Zalophus californianus      1000   107\n",
      "1  11728   Spot  Zalophus californianus      1531    56\n",
      "2  11729  Tiger  Zalophus californianus      1370    37\n",
      "3  11732  Mabel  Zalophus californianus      1622    62\n",
      "4  11734   Rick  Zalophus californianus      1491    58\n"
     ]
    }
   ],
   "source": [
    "# Query 5: Natural join\n",
    "df_natural_join = pd.read_sql(\"SELECT * FROM sea_lions NATURAL JOIN migrations\", conn)\n",
    "print(\"\\nNatural Join Result:\\n\", df_natural_join)"
   ]
  },
  {
   "cell_type": "code",
   "execution_count": 56,
   "metadata": {},
   "outputs": [
    {
     "name": "stdout",
     "output_type": "stream",
     "text": [
      "\n",
      "Sea Lions with Migration Distance > 1500:\n",
      "       id   name                 species     id  distance  days\n",
      "0  11728   Spot  Zalophus californianus  11728      1531    56\n",
      "1  11732  Mabel  Zalophus californianus  11732      1622    62\n"
     ]
    }
   ],
   "source": [
    "# Query 6: Join with WHERE condition\n",
    "df_filtered = pd.read_sql(\"SELECT * FROM sea_lions JOIN migrations ON migrations.id = sea_lions.id WHERE migrations.distance > 1500\", conn)\n",
    "print(\"\\nSea Lions with Migration Distance > 1500:\\n\", df_filtered)"
   ]
  },
  {
   "cell_type": "code",
   "execution_count": 57,
   "metadata": {},
   "outputs": [],
   "source": [
    "\n",
    "# Close connection\n",
    "conn.close()"
   ]
  },
  {
   "cell_type": "code",
   "execution_count": null,
   "metadata": {},
   "outputs": [],
   "source": []
  }
 ],
 "metadata": {
  "kernelspec": {
   "display_name": "venv",
   "language": "python",
   "name": "python3"
  },
  "language_info": {
   "codemirror_mode": {
    "name": "ipython",
    "version": 3
   },
   "file_extension": ".py",
   "mimetype": "text/x-python",
   "name": "python",
   "nbconvert_exporter": "python",
   "pygments_lexer": "ipython3",
   "version": "3.12.5"
  }
 },
 "nbformat": 4,
 "nbformat_minor": 2
}
