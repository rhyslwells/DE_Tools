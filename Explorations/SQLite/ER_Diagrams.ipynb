{
 "cells": [
  {
   "cell_type": "code",
   "execution_count": null,
   "metadata": {},
   "outputs": [],
   "source": [
    "import sqlite3\n",
    "\n",
    "# Connect to SQLite database\n",
    "database_path=\"Datasets/database/longlist.db\"\n",
    "conn = sqlite3.connect(database_path)\n",
    "\n",
    "# Create a cursor object\n",
    "cursor = conn.cursor()"
   ]
  },
  {
   "cell_type": "markdown",
   "metadata": {},
   "source": [
    "```mermaid\n",
    "erDiagram\n",
    "  collections {\n",
    "    INTEGER id PK\n",
    "    TEXT title\n",
    "    TEXT accession_number\n",
    "    NUMERIC acquired\n",
    "  }\n",
    "  artists {\n",
    "    INTEGER id PK\n",
    "    TEXT name\n",
    "  }\n",
    "  created {\n",
    "    INTEGER artist_id PK\n",
    "    INTEGER collection_id PK\n",
    "  }\n",
    "  created ||--o{ collections : \"collection_id → id\"\n",
    "  created ||--|| artists : \"artist_id → id\"\n",
    "```"
   ]
  },
  {
   "cell_type": "code",
   "execution_count": null,
   "metadata": {},
   "outputs": [],
   "source": [
    "# Start Mermaid diagram\n",
    "mermaid_output = [\"erDiagram\"]\n",
    "\n",
    "# Get list of tables\n",
    "cursor.execute(\"SELECT name FROM sqlite_master WHERE type='table';\")\n",
    "tables = [table[0] for table in cursor.fetchall()]\n",
    "\n",
    "for table in tables:\n",
    "    # Get column details\n",
    "    cursor.execute(f\"PRAGMA table_info({table});\")\n",
    "    columns = cursor.fetchall()  # (cid, name, type, notnull, dflt_value, pk)\n",
    "    \n",
    "    # Define table in Mermaid format\n",
    "    mermaid_output.append(f\"  {table} {{\")\n",
    "    column_dict = {}  # Store column details for FK check\n",
    "    for col in columns:\n",
    "        col_name = col[1]\n",
    "        col_type = col[2].upper()\n",
    "        pk_flag = \" PK\" if col[5] else \"\"\n",
    "        mermaid_output.append(f\"    {col_type} {col_name}{pk_flag}\")\n",
    "        column_dict[col_name] = col[5]  # Track if column is a PK\n",
    "    \n",
    "    mermaid_output.append(\"  }\")\n",
    "    \n",
    "    # Get foreign key relationships\n",
    "    cursor.execute(f\"PRAGMA foreign_key_list({table});\")\n",
    "    foreign_keys = cursor.fetchall()\n",
    "    \n",
    "    for fk in foreign_keys:\n",
    "        from_column = fk[3]  # FK column in current table\n",
    "        to_table = fk[2]      # Referenced table\n",
    "        to_column = fk[4]     # Referenced column\n",
    "        \n",
    "        # Check if the FK column is also a primary key (1:1 relationship)\n",
    "        if column_dict.get(from_column, 0) == 1:\n",
    "            mermaid_output.append(f\"  {table} ||--|| {to_table} : \\\"{from_column} → {to_column}\\\"\")  # 1:1\n",
    "        else:\n",
    "            mermaid_output.append(f\"  {table} ||--o{{ {to_table} : \\\"{from_column} → {to_column}\\\"\")  # 1:M\n",
    "\n",
    "# Print Mermaid syntax\n",
    "mermaid_code = \"\\n\".join(mermaid_output)\n",
    "print(mermaid_code)\n",
    "\n",
    "# Close connection\n",
    "conn.close()\n"
   ]
  },
  {
   "cell_type": "code",
   "execution_count": null,
   "metadata": {},
   "outputs": [],
   "source": []
  }
 ],
 "metadata": {
  "kernelspec": {
   "display_name": "venv",
   "language": "python",
   "name": "python3"
  },
  "language_info": {
   "codemirror_mode": {
    "name": "ipython",
    "version": 3
   },
   "file_extension": ".py",
   "mimetype": "text/x-python",
   "name": "python",
   "nbconvert_exporter": "python",
   "pygments_lexer": "ipython3",
   "version": "3.12.5"
  }
 },
 "nbformat": 4,
 "nbformat_minor": 2
}
