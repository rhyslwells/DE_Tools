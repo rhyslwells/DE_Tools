{
 "cells": [
  {
   "cell_type": "code",
   "execution_count": 6,
   "metadata": {},
   "outputs": [
    {
     "name": "stdout",
     "output_type": "stream",
     "text": [
      "\n",
      "Books by MacLehose Press (Nested Query):\n",
      "                        title\n",
      "0             Standing Heavy\n",
      "1  Jimi Hendrix Live in Lviv\n",
      "2     An Inventory of Losses\n",
      "3      The Faculty of Dreams\n",
      "4     The Shape of the Ruins\n",
      "5               The Impostor\n",
      "6           Vernon Subutex 1\n"
     ]
    }
   ],
   "source": [
    "import sqlite3\n",
    "import pandas as pd\n",
    "\n",
    "# Connect to SQLite database\n",
    "database_path = \"Datasets/database/longlist.db\"\n",
    "conn = sqlite3.connect(database_path)\n",
    "\n",
    "# Corrected Nested Query: Find books by a specific publisher\n",
    "query_nested = \"\"\"\n",
    "    SELECT title FROM books \n",
    "    WHERE publisher_id = (SELECT id FROM publishers WHERE publisher = ?)\n",
    "\"\"\"\n",
    "publisher_name = \"MacLehose Press\"\n",
    "\n",
    "df_books_nested = pd.read_sql(query_nested, conn, params=(publisher_name,))\n",
    "print(\"\\nBooks by MacLehose Press (Nested Query):\\n\", df_books_nested)\n",
    "\n",
    "# Close connection\n",
    "conn.close()\n"
   ]
  },
  {
   "cell_type": "code",
   "execution_count": 5,
   "metadata": {},
   "outputs": [
    {
     "name": "stdout",
     "output_type": "stream",
     "text": [
      "\n",
      "Books by MacLehose Press (Nested Query):\n",
      "                        title\n",
      "0             Standing Heavy\n",
      "1  Jimi Hendrix Live in Lviv\n",
      "2     An Inventory of Losses\n",
      "3      The Faculty of Dreams\n",
      "4     The Shape of the Ruins\n",
      "5               The Impostor\n",
      "6           Vernon Subutex 1\n"
     ]
    }
   ],
   "source": [
    "# Connect to SQLite database\n",
    "database_path = \"Datasets/database/longlist.db\"\n",
    "conn = sqlite3.connect(database_path)\n",
    "# Query 4: Find books by nested query\n",
    "df_books_nested = pd.read_sql(\"\"\"\n",
    "    SELECT title FROM books WHERE publisher_id = (\n",
    "        SELECT id FROM publishers WHERE publisher = 'MacLehose Press'\n",
    "    )\"\"\", conn)\n",
    "print(\"\\nBooks by MacLehose Press (Nested Query):\\n\", df_books_nested)\n"
   ]
  },
  {
   "cell_type": "code",
   "execution_count": null,
   "metadata": {},
   "outputs": [
    {
     "name": "stdout",
     "output_type": "stream",
     "text": [
      "                                     title\n",
      "0                           Standing Heavy\n",
      "1                Jimi Hendrix Live in Lviv\n",
      "2   A System So Magnificent It Is Blinding\n",
      "3                   An Inventory of Losses\n",
      "4                          The Eighth Life\n",
      "5                                  At Dusk\n",
      "6               The Death of Murat Idrissi\n",
      "7                    The Faculty of Dreams\n",
      "8                   The Shape of the Ruins\n",
      "9                             The Impostor\n",
      "10                        Vernon Subutex 1\n"
     ]
    }
   ],
   "source": [
    "#Example: Find Books by Multiple Publishers\n",
    "database_path = \"Datasets/database/longlist.db\"\n",
    "conn = sqlite3.connect(database_path)\n",
    "# Example: Find Books by Multiple Publishers\n",
    "\n",
    "publishers = [\"MacLehose Press\", \"Scribe UK\"]\n",
    "# publishers = [\"MacLehose Press\"]\n",
    "\n",
    "placeholders = \", \".join([\"?\"] * len(publishers))  # Generates: \"?, ?\"\n",
    "\n",
    "query = f\"\"\"\n",
    "    SELECT title FROM books \n",
    "    WHERE publisher_id IN (\n",
    "        SELECT id FROM publishers WHERE publisher IN ({placeholders})\n",
    "    )\n",
    "\"\"\"\n",
    "\n",
    "df_books = pd.read_sql(query, conn, params=publishers)\n",
    "print(df_books)"
   ]
  },
  {
   "cell_type": "code",
   "execution_count": 14,
   "metadata": {},
   "outputs": [],
   "source": [
    "# # 2. Using Named Parameters\n",
    "# database_path = \"Datasets/database/longlist.db\"\n",
    "# conn = sqlite3.connect(database_path)\n",
    "# query = \"\"\"\n",
    "#     SELECT title FROM books \n",
    "#     WHERE translator_id = :translator AND publisher_id = (\n",
    "#         SELECT id FROM publishers WHERE publisher = :publisher\n",
    "#     )\n",
    "# \"\"\"\n",
    "\n",
    "# params = {\"translator\": 5, \"publisher\": \"MacLehose Press\"}\n",
    "\n",
    "# df_books = pd.read_sql(query, conn, params=params)\n",
    "# print(df_books)\n"
   ]
  },
  {
   "cell_type": "code",
   "execution_count": null,
   "metadata": {},
   "outputs": [
    {
     "name": "stdout",
     "output_type": "stream",
     "text": [
      "                   title\n",
      "0                 Heaven\n",
      "1  Happy Stories, Mostly\n",
      "2       Hurricane Season\n"
     ]
    }
   ],
   "source": [
    "search_term = \"H%\"  # Matches any title starting with 'Harry'\n",
    "\n",
    "query = \"\"\"\n",
    "    SELECT title FROM books \n",
    "    WHERE title LIKE ?\n",
    "\"\"\"\n",
    "\n",
    "df_books = pd.read_sql(query, conn, params=(search_term,))\n",
    "print(df_books)"
   ]
  },
  {
   "cell_type": "code",
   "execution_count": 17,
   "metadata": {},
   "outputs": [
    {
     "name": "stdout",
     "output_type": "stream",
     "text": [
      "                                        title\n",
      "0  Drive Your Plow Over the Bones of the Dead\n",
      "1                                 Elena Knows\n",
      "2               Faces on the Tip of My Tongue\n",
      "3                                     Flights\n",
      "4                               Four Soldiers\n",
      "5                     Frankenstein in Baghdad\n",
      "6                              Go, Went, Gone\n",
      "7                       Happy Stories, Mostly\n",
      "8                                      Heaven\n",
      "9                            Hurricane Season\n"
     ]
    }
   ],
   "source": [
    "page = 2\n",
    "page_size = 10\n",
    "offset = (page - 1) * page_size  # Calculate offset dynamically\n",
    "\n",
    "query = \"\"\"\n",
    "    SELECT title FROM books \n",
    "    ORDER BY title \n",
    "    LIMIT ? OFFSET ?\n",
    "\"\"\"\n",
    "\n",
    "df_books = pd.read_sql(query, conn, params=(page_size, offset))\n",
    "print(df_books)\n"
   ]
  },
  {
   "cell_type": "code",
   "execution_count": null,
   "metadata": {},
   "outputs": [],
   "source": []
  }
 ],
 "metadata": {
  "kernelspec": {
   "display_name": "venv",
   "language": "python",
   "name": "python3"
  },
  "language_info": {
   "codemirror_mode": {
    "name": "ipython",
    "version": 3
   },
   "file_extension": ".py",
   "mimetype": "text/x-python",
   "name": "python",
   "nbconvert_exporter": "python",
   "pygments_lexer": "ipython3",
   "version": "3.12.5"
  }
 },
 "nbformat": 4,
 "nbformat_minor": 2
}
