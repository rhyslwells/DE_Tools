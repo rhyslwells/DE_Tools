{
 "cells": [
  {
   "cell_type": "markdown",
   "metadata": {},
   "source": [
    "Defines a secure function (get_account_by_id_safe) that retrieves records using a parameterized query.\n",
    "\n",
    "Defines an insecure function (get_account_by_id_insecure) that demonstrates SQL injection risks.\n",
    "\n",
    "Executes both functions, showing the secure approach and the risk of SQL injection.\n",
    "\n",
    "Expected Results:\n",
    "Safe Query: Returns a single row matching the provided id.\n",
    "\n",
    "Insecure Query: Executes unintended SQL, returning all accounts (demonstrating an injection risk)."
   ]
  },
  {
   "cell_type": "code",
   "execution_count": 1,
   "metadata": {},
   "outputs": [
    {
     "name": "stdout",
     "output_type": "stream",
     "text": [
      "Safe Query Output:\n"
     ]
    },
    {
     "data": {
      "text/html": [
       "<div>\n",
       "<style scoped>\n",
       "    .dataframe tbody tr th:only-of-type {\n",
       "        vertical-align: middle;\n",
       "    }\n",
       "\n",
       "    .dataframe tbody tr th {\n",
       "        vertical-align: top;\n",
       "    }\n",
       "\n",
       "    .dataframe thead th {\n",
       "        text-align: right;\n",
       "    }\n",
       "</style>\n",
       "<table border=\"1\" class=\"dataframe\">\n",
       "  <thead>\n",
       "    <tr style=\"text-align: right;\">\n",
       "      <th></th>\n",
       "      <th>id</th>\n",
       "      <th>name</th>\n",
       "      <th>balance</th>\n",
       "    </tr>\n",
       "  </thead>\n",
       "  <tbody>\n",
       "    <tr>\n",
       "      <th>0</th>\n",
       "      <td>1</td>\n",
       "      <td>Alice</td>\n",
       "      <td>10</td>\n",
       "    </tr>\n",
       "  </tbody>\n",
       "</table>\n",
       "</div>"
      ],
      "text/plain": [
       "   id   name  balance\n",
       "0   1  Alice       10"
      ]
     },
     "metadata": {},
     "output_type": "display_data"
    },
    {
     "name": "stdout",
     "output_type": "stream",
     "text": [
      "Insecure Query Output:\n",
      "Executing: SELECT * FROM accounts WHERE id = 1 UNION SELECT * FROM accounts\n"
     ]
    },
    {
     "data": {
      "text/html": [
       "<div>\n",
       "<style scoped>\n",
       "    .dataframe tbody tr th:only-of-type {\n",
       "        vertical-align: middle;\n",
       "    }\n",
       "\n",
       "    .dataframe tbody tr th {\n",
       "        vertical-align: top;\n",
       "    }\n",
       "\n",
       "    .dataframe thead th {\n",
       "        text-align: right;\n",
       "    }\n",
       "</style>\n",
       "<table border=\"1\" class=\"dataframe\">\n",
       "  <thead>\n",
       "    <tr style=\"text-align: right;\">\n",
       "      <th></th>\n",
       "      <th>id</th>\n",
       "      <th>name</th>\n",
       "      <th>balance</th>\n",
       "    </tr>\n",
       "  </thead>\n",
       "  <tbody>\n",
       "    <tr>\n",
       "      <th>0</th>\n",
       "      <td>1</td>\n",
       "      <td>Alice</td>\n",
       "      <td>10</td>\n",
       "    </tr>\n",
       "    <tr>\n",
       "      <th>1</th>\n",
       "      <td>2</td>\n",
       "      <td>Bob</td>\n",
       "      <td>20</td>\n",
       "    </tr>\n",
       "    <tr>\n",
       "      <th>2</th>\n",
       "      <td>3</td>\n",
       "      <td>Charlie</td>\n",
       "      <td>30</td>\n",
       "    </tr>\n",
       "  </tbody>\n",
       "</table>\n",
       "</div>"
      ],
      "text/plain": [
       "   id     name  balance\n",
       "0   1    Alice       10\n",
       "1   2      Bob       20\n",
       "2   3  Charlie       30"
      ]
     },
     "metadata": {},
     "output_type": "display_data"
    }
   ],
   "source": [
    "import sqlite3\n",
    "import pandas as pd\n",
    "\n",
    "# Connect to SQLite database (or create it)\n",
    "database_path = \"bank.db\"\n",
    "conn = sqlite3.connect(database_path)\n",
    "cursor = conn.cursor()\n",
    "\n",
    "# Create accounts table\n",
    "cursor.execute(\"\"\"\n",
    "CREATE TABLE IF NOT EXISTS accounts (\n",
    "    id INTEGER PRIMARY KEY AUTOINCREMENT,\n",
    "    name TEXT,\n",
    "    balance INTEGER\n",
    ");\n",
    "\"\"\")\n",
    "\n",
    "# Insert sample data\n",
    "cursor.executemany(\"\"\"\n",
    "INSERT INTO accounts (name, balance) VALUES (?, ?);\n",
    "\"\"\", [('Alice', 10), ('Bob', 20), ('Charlie', 30)])\n",
    "\n",
    "conn.commit()  # Save changes\n",
    "\n",
    "# Function to fetch data securely using parameterized queries\n",
    "def get_account_by_id_safe(account_id):\n",
    "    query = \"SELECT * FROM accounts WHERE id = ?\"\n",
    "    df = pd.read_sql_query(query, conn, params=(account_id,))\n",
    "    return df\n",
    "\n",
    "# Function to demonstrate SQL injection risk\n",
    "def get_account_by_id_insecure(account_id):\n",
    "    query = f\"SELECT * FROM accounts WHERE id = {account_id}\"\n",
    "    print(\"Executing:\", query)\n",
    "    df = pd.read_sql_query(query, conn)\n",
    "    return df\n",
    "\n",
    "# Secure query example\n",
    "print(\"Safe Query Output:\")\n",
    "display(get_account_by_id_safe(1))\n",
    "\n",
    "# Insecure query example (simulating SQL injection)\n",
    "print(\"Insecure Query Output:\")\n",
    "display(get_account_by_id_insecure(\"1 UNION SELECT * FROM accounts\"))\n",
    "\n",
    "# Close connection\n",
    "conn.close()\n"
   ]
  },
  {
   "cell_type": "code",
   "execution_count": null,
   "metadata": {},
   "outputs": [],
   "source": []
  }
 ],
 "metadata": {
  "kernelspec": {
   "display_name": "venv",
   "language": "python",
   "name": "python3"
  },
  "language_info": {
   "codemirror_mode": {
    "name": "ipython",
    "version": 3
   },
   "file_extension": ".py",
   "mimetype": "text/x-python",
   "name": "python",
   "nbconvert_exporter": "python",
   "pygments_lexer": "ipython3",
   "version": "3.12.5"
  }
 },
 "nbformat": 4,
 "nbformat_minor": 2
}
