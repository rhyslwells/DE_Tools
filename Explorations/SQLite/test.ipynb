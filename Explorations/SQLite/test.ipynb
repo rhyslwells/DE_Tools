{
 "cells": [
  {
   "cell_type": "code",
   "execution_count": 3,
   "metadata": {},
   "outputs": [],
   "source": [
    "import sqlite3\n",
    "import pandas as pd\n",
    "\n",
    "# Connect to SQLite database\n",
    "conn = sqlite3.connect(\"cyberchase.db\")\n",
    "\n",
    "# Create a cursor object\n",
    "cursor = conn.cursor()"
   ]
  },
  {
   "cell_type": "code",
   "execution_count": null,
   "metadata": {},
   "outputs": [
    {
     "name": "stdout",
     "output_type": "stream",
     "text": [
      "Database Tables:\n",
      "        name\n",
      "0  episodes\n"
     ]
    }
   ],
   "source": [
    "# Get database info: List all tables\n",
    "tables_query = \"SELECT name FROM sqlite_master WHERE type='table';\"\n",
    "tables = pd.read_sql(tables_query, conn)\n",
    "print(\"Database Tables:\\n\", tables)\n",
    "\n"
   ]
  },
  {
   "cell_type": "code",
   "execution_count": 5,
   "metadata": {},
   "outputs": [
    {
     "name": "stdout",
     "output_type": "stream",
     "text": [
      "\n",
      "Table Schema for 'episodes':\n",
      "    cid               name     type  notnull dflt_value  pk\n",
      "0    0                 id  INTEGER        0       None   1\n",
      "1    1             season  INTEGER        0       None   0\n",
      "2    2  episode_in_season  INTEGER        0       None   0\n",
      "3    3              title     TEXT        0       None   0\n",
      "4    4              topic     TEXT        0       None   0\n",
      "5    5           air_date  NUMERIC        0       None   0\n",
      "6    6    production_code     TEXT        0       None   0\n"
     ]
    }
   ],
   "source": [
    "# Get column info for the 'episodes' table\n",
    "columns_query = \"PRAGMA table_info(episodes);\"\n",
    "columns = pd.read_sql(columns_query, conn)\n",
    "print(\"\\nTable Schema for 'episodes':\\n\", columns)"
   ]
  },
  {
   "cell_type": "code",
   "execution_count": null,
   "metadata": {},
   "outputs": [],
   "source": [
    "# Connect to SQLite database\n",
    "conn = sqlite3.connect(\"cyberchase.db\")\n",
    "\n",
    "# Query 1: Get the first 5 episodes\n",
    "df = pd.read_sql(\"SELECT * FROM episodes LIMIT 5\", conn)\n",
    "print(\"\\nFirst 5 Episodes:\\n\", df)\n",
    "\n",
    "# Query 2: Count total episodes\n",
    "df_count = pd.read_sql(\"SELECT COUNT(*) AS total_episodes FROM episodes\", conn)\n",
    "print(\"\\nTotal Episodes:\\n\", df_count)\n",
    "\n",
    "# Query 3: Episodes from Season 3\n",
    "df_season3 = pd.read_sql(\"SELECT * FROM episodes WHERE season = 3\", conn)\n",
    "print(\"\\nEpisodes from Season 3:\\n\", df_season3)\n",
    "\n",
    "# Query 4: Most recent 5 episodes by air date\n",
    "df_recent = pd.read_sql(\"SELECT * FROM episodes ORDER BY air_date DESC LIMIT 5\", conn)\n",
    "print(\"\\nMost Recent Episodes:\\n\", df_recent)\n",
    "\n",
    "# Query 5: Most frequent topic\n",
    "df_topic = pd.read_sql(\"\"\"\n",
    "    SELECT topic, COUNT(*) AS topic_count \n",
    "    FROM episodes \n",
    "    GROUP BY topic \n",
    "    ORDER BY topic_count DESC \n",
    "    LIMIT 1\n",
    "\"\"\", conn)\n",
    "print(\"\\nMost Frequent Topic:\\n\", df_topic)\n",
    "\n",
    "# Close connection\n",
    "conn.close()\n"
   ]
  },
  {
   "cell_type": "code",
   "execution_count": null,
   "metadata": {},
   "outputs": [],
   "source": []
  },
  {
   "cell_type": "code",
   "execution_count": null,
   "metadata": {},
   "outputs": [],
   "source": []
  },
  {
   "cell_type": "code",
   "execution_count": 6,
   "metadata": {},
   "outputs": [
    {
     "name": "stdout",
     "output_type": "stream",
     "text": [
      "\n",
      "Data from 'episodes' table:\n",
      "    id  season  episode_in_season                 title  \\\n",
      "0   1       1                  1       Lost My Marbles   \n",
      "1   2       1                  2          Castleblanca   \n",
      "2   3       1                  3           R-Fair City   \n",
      "3   4       1                  4  Snow Day to be Exact   \n",
      "4   5       1                  5        Sensible Flats   \n",
      "\n",
      "                          topic    air_date production_code  \n",
      "0                    Navigation  2002-01-21          CYB001  \n",
      "1  Data Collection and Analysis  2002-01-22          CYB010  \n",
      "2        Probability and chance  2002-01-23          CYB004  \n",
      "3                    Estimation  2002-01-24          CYB007  \n",
      "4                          Area  2002-01-25          CYB005  \n"
     ]
    }
   ],
   "source": [
    "\n",
    "# Query data and convert to DataFrame\n",
    "df = pd.read_sql(\"SELECT * FROM episodes LIMIT 5\", conn)\n",
    "\n",
    "# Close connection\n",
    "conn.close()\n",
    "\n",
    "# Print DataFrame\n",
    "print(\"\\nData from 'episodes' table:\\n\", df)\n"
   ]
  },
  {
   "cell_type": "code",
   "execution_count": null,
   "metadata": {},
   "outputs": [],
   "source": []
  }
 ],
 "metadata": {
  "kernelspec": {
   "display_name": "venv",
   "language": "python",
   "name": "python3"
  },
  "language_info": {
   "codemirror_mode": {
    "name": "ipython",
    "version": 3
   },
   "file_extension": ".py",
   "mimetype": "text/x-python",
   "name": "python",
   "nbconvert_exporter": "python",
   "pygments_lexer": "ipython3",
   "version": "3.12.5"
  }
 },
 "nbformat": 4,
 "nbformat_minor": 2
}
